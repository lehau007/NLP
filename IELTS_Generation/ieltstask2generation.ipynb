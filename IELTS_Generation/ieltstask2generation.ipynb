{
 "cells": [
  {
   "cell_type": "code",
   "execution_count": 1,
   "id": "d48ead41",
   "metadata": {
    "_cell_guid": "b1076dfc-b9ad-4769-8c92-a6c4dae69d19",
    "_uuid": "8f2839f25d086af736a60e9eeb907d3b93b6e0e5",
    "execution": {
     "iopub.execute_input": "2025-05-26T09:04:52.795964Z",
     "iopub.status.busy": "2025-05-26T09:04:52.795677Z",
     "iopub.status.idle": "2025-05-26T09:04:57.918672Z",
     "shell.execute_reply": "2025-05-26T09:04:57.917639Z"
    },
    "papermill": {
     "duration": 5.132056,
     "end_time": "2025-05-26T09:04:57.921204",
     "exception": false,
     "start_time": "2025-05-26T09:04:52.789148",
     "status": "completed"
    },
    "tags": []
   },
   "outputs": [],
   "source": [
    "import numpy as np\n",
    "import pandas as pd\n",
    "import torch\n",
    "import torch.nn as nn\n",
    "import torch.optim as optim\n",
    "import torch.nn.functional as F"
   ]
  },
  {
   "cell_type": "code",
   "execution_count": 2,
   "id": "9fa7e89e",
   "metadata": {
    "execution": {
     "iopub.execute_input": "2025-05-26T09:04:57.940363Z",
     "iopub.status.busy": "2025-05-26T09:04:57.939653Z",
     "iopub.status.idle": "2025-05-26T09:04:57.943265Z",
     "shell.execute_reply": "2025-05-26T09:04:57.942550Z"
    },
    "papermill": {
     "duration": 0.013311,
     "end_time": "2025-05-26T09:04:57.944456",
     "exception": false,
     "start_time": "2025-05-26T09:04:57.931145",
     "status": "completed"
    },
    "tags": []
   },
   "outputs": [],
   "source": [
    "import os\n",
    "os.environ['CUDA_LAUNCH_BLOCKING'] = \"1\""
   ]
  },
  {
   "cell_type": "code",
   "execution_count": 3,
   "id": "9676360a",
   "metadata": {
    "execution": {
     "iopub.execute_input": "2025-05-26T09:04:57.954410Z",
     "iopub.status.busy": "2025-05-26T09:04:57.954196Z",
     "iopub.status.idle": "2025-05-26T09:04:58.071635Z",
     "shell.execute_reply": "2025-05-26T09:04:58.070897Z"
    },
    "papermill": {
     "duration": 0.12385,
     "end_time": "2025-05-26T09:04:58.073002",
     "exception": false,
     "start_time": "2025-05-26T09:04:57.949152",
     "status": "completed"
    },
    "tags": []
   },
   "outputs": [
    {
     "data": {
      "text/html": [
       "<div>\n",
       "<style scoped>\n",
       "    .dataframe tbody tr th:only-of-type {\n",
       "        vertical-align: middle;\n",
       "    }\n",
       "\n",
       "    .dataframe tbody tr th {\n",
       "        vertical-align: top;\n",
       "    }\n",
       "\n",
       "    .dataframe thead th {\n",
       "        text-align: right;\n",
       "    }\n",
       "</style>\n",
       "<table border=\"1\" class=\"dataframe\">\n",
       "  <thead>\n",
       "    <tr style=\"text-align: right;\">\n",
       "      <th></th>\n",
       "      <th>prompt</th>\n",
       "      <th>essay</th>\n",
       "    </tr>\n",
       "  </thead>\n",
       "  <tbody>\n",
       "    <tr>\n",
       "      <th>1095</th>\n",
       "      <td>Financial education should be a mandatory comp...</td>\n",
       "      <td>In many countries the discussion about financi...</td>\n",
       "    </tr>\n",
       "    <tr>\n",
       "      <th>1096</th>\n",
       "      <td>The best way to reduce the number of traffic a...</td>\n",
       "      <td>With the rapid increase in the number of vehic...</td>\n",
       "    </tr>\n",
       "    <tr>\n",
       "      <th>1097</th>\n",
       "      <td>Dieting can change a person’s life for the bet...</td>\n",
       "      <td>Dieting seems to be of our life in this modern...</td>\n",
       "    </tr>\n",
       "    <tr>\n",
       "      <th>1098</th>\n",
       "      <td>Even though globalization affects the world’s ...</td>\n",
       "      <td>Everything has two sides and the globalization...</td>\n",
       "    </tr>\n",
       "    <tr>\n",
       "      <th>1099</th>\n",
       "      <td>In many countries children are engaged in some...</td>\n",
       "      <td>In the Third World, children are usually sent ...</td>\n",
       "    </tr>\n",
       "    <tr>\n",
       "      <th>1100</th>\n",
       "      <td>You can get up-to-date news from the radio, TV...</td>\n",
       "      <td>Nowadays, there are several channels to get ne...</td>\n",
       "    </tr>\n",
       "    <tr>\n",
       "      <th>1101</th>\n",
       "      <td>Millions of people every year move to English-...</td>\n",
       "      <td>Nowadays, language becomes a major factor to ....</td>\n",
       "    </tr>\n",
       "    <tr>\n",
       "      <th>1102</th>\n",
       "      <td>The best way to reduce the number of traffic a...</td>\n",
       "      <td>Traffic accidents are on the rise these days. ...</td>\n",
       "    </tr>\n",
       "    <tr>\n",
       "      <th>1103</th>\n",
       "      <td>Financial education should be a mandatory comp...</td>\n",
       "      <td>Children in this modern era have all the magni...</td>\n",
       "    </tr>\n",
       "    <tr>\n",
       "      <th>1104</th>\n",
       "      <td>Even though globalization affects the world’s ...</td>\n",
       "      <td>Globalization is a process of advancement and ...</td>\n",
       "    </tr>\n",
       "  </tbody>\n",
       "</table>\n",
       "</div>"
      ],
      "text/plain": [
       "                                                 prompt  \\\n",
       "1095  Financial education should be a mandatory comp...   \n",
       "1096  The best way to reduce the number of traffic a...   \n",
       "1097  Dieting can change a person’s life for the bet...   \n",
       "1098  Even though globalization affects the world’s ...   \n",
       "1099  In many countries children are engaged in some...   \n",
       "1100  You can get up-to-date news from the radio, TV...   \n",
       "1101  Millions of people every year move to English-...   \n",
       "1102  The best way to reduce the number of traffic a...   \n",
       "1103  Financial education should be a mandatory comp...   \n",
       "1104  Even though globalization affects the world’s ...   \n",
       "\n",
       "                                                  essay  \n",
       "1095  In many countries the discussion about financi...  \n",
       "1096  With the rapid increase in the number of vehic...  \n",
       "1097  Dieting seems to be of our life in this modern...  \n",
       "1098  Everything has two sides and the globalization...  \n",
       "1099  In the Third World, children are usually sent ...  \n",
       "1100  Nowadays, there are several channels to get ne...  \n",
       "1101  Nowadays, language becomes a major factor to ....  \n",
       "1102  Traffic accidents are on the rise these days. ...  \n",
       "1103  Children in this modern era have all the magni...  \n",
       "1104  Globalization is a process of advancement and ...  "
      ]
     },
     "execution_count": 3,
     "metadata": {},
     "output_type": "execute_result"
    }
   ],
   "source": [
    "df_2 = pd.read_csv(\"/kaggle/input/ielts-writing-scored-essays-dataset/ielts_writing_dataset.csv\")\n",
    "\n",
    "df_2 = df_2.rename(columns={'Question': 'prompt', 'Essay': 'essay'})\n",
    "# Get essay with band greater than 5.5\n",
    "df_2 = df_2[df_2[\"Overall\"] >= 6.0].reset_index()[[\"prompt\", \"essay\"]]\n",
    "\n",
    "# Get the last 10 rows\n",
    "df_test = df_2.tail(20)\n",
    "df_test = df_test.head(10)\n",
    "\n",
    "df_test"
   ]
  },
  {
   "cell_type": "markdown",
   "id": "954e0abb",
   "metadata": {
    "papermill": {
     "duration": 0.00471,
     "end_time": "2025-05-26T09:04:58.082930",
     "exception": false,
     "start_time": "2025-05-26T09:04:58.078220",
     "status": "completed"
    },
    "tags": []
   },
   "source": [
    "# Go through data"
   ]
  },
  {
   "cell_type": "code",
   "execution_count": 4,
   "id": "e66e13ff",
   "metadata": {
    "execution": {
     "iopub.execute_input": "2025-05-26T09:04:58.093085Z",
     "iopub.status.busy": "2025-05-26T09:04:58.092864Z",
     "iopub.status.idle": "2025-05-26T09:04:59.309233Z",
     "shell.execute_reply": "2025-05-26T09:04:59.308393Z"
    },
    "papermill": {
     "duration": 1.223043,
     "end_time": "2025-05-26T09:04:59.310672",
     "exception": false,
     "start_time": "2025-05-26T09:04:58.087629",
     "status": "completed"
    },
    "tags": []
   },
   "outputs": [],
   "source": [
    "df = pd.read_csv(\"/kaggle/input/ielts-rubrish-score-for-evaluate/IELTS-gen_dataset.csv\")\n",
    "\n",
    "df = df.rename(columns={'Topic': 'prompt', 'Essay': 'essay'})\n",
    "# Get essay with band greater than 5.5\n",
    "df = df[df[\"Band\"] >= 6.0].reset_index()[[\"prompt\", \"essay\"]]"
   ]
  },
  {
   "cell_type": "code",
   "execution_count": 5,
   "id": "e2281060",
   "metadata": {
    "execution": {
     "iopub.execute_input": "2025-05-26T09:04:59.321892Z",
     "iopub.status.busy": "2025-05-26T09:04:59.321658Z",
     "iopub.status.idle": "2025-05-26T09:04:59.329330Z",
     "shell.execute_reply": "2025-05-26T09:04:59.328760Z"
    },
    "papermill": {
     "duration": 0.014582,
     "end_time": "2025-05-26T09:04:59.330411",
     "exception": false,
     "start_time": "2025-05-26T09:04:59.315829",
     "status": "completed"
    },
    "tags": []
   },
   "outputs": [
    {
     "data": {
      "text/html": [
       "<div>\n",
       "<style scoped>\n",
       "    .dataframe tbody tr th:only-of-type {\n",
       "        vertical-align: middle;\n",
       "    }\n",
       "\n",
       "    .dataframe tbody tr th {\n",
       "        vertical-align: top;\n",
       "    }\n",
       "\n",
       "    .dataframe thead th {\n",
       "        text-align: right;\n",
       "    }\n",
       "</style>\n",
       "<table border=\"1\" class=\"dataframe\">\n",
       "  <thead>\n",
       "    <tr style=\"text-align: right;\">\n",
       "      <th></th>\n",
       "      <th>prompt</th>\n",
       "      <th>essay</th>\n",
       "    </tr>\n",
       "  </thead>\n",
       "  <tbody>\n",
       "    <tr>\n",
       "      <th>0</th>\n",
       "      <td>Some people believe that entertainers are paid...</td>\n",
       "      <td>The entertainment industry is one of the large...</td>\n",
       "    </tr>\n",
       "    <tr>\n",
       "      <th>1</th>\n",
       "      <td>School children are becoming far too dependent...</td>\n",
       "      <td>Children are born into the digital world. From...</td>\n",
       "    </tr>\n",
       "    <tr>\n",
       "      <th>2</th>\n",
       "      <td>One of the consequences of improved medical ca...</td>\n",
       "      <td>Since the medical care system has made signifi...</td>\n",
       "    </tr>\n",
       "    <tr>\n",
       "      <th>3</th>\n",
       "      <td>Some people think that physical strength is im...</td>\n",
       "      <td>Physical energy is considered to be an imperat...</td>\n",
       "    </tr>\n",
       "    <tr>\n",
       "      <th>4</th>\n",
       "      <td>In some countries governments are encouraging ...</td>\n",
       "      <td>Nowadays, industry and business have been enco...</td>\n",
       "    </tr>\n",
       "    <tr>\n",
       "      <th>...</th>\n",
       "      <td>...</td>\n",
       "      <td>...</td>\n",
       "    </tr>\n",
       "    <tr>\n",
       "      <th>16452</th>\n",
       "      <td>Some people believe that teenagers should conc...</td>\n",
       "      <td>All foundation school subjects should be focus...</td>\n",
       "    </tr>\n",
       "    <tr>\n",
       "      <th>16453</th>\n",
       "      <td>Some people say it is a waste of time to plan ...</td>\n",
       "      <td>People have always been concerned with their f...</td>\n",
       "    </tr>\n",
       "    <tr>\n",
       "      <th>16454</th>\n",
       "      <td>Do you agree or disagree with the following st...</td>\n",
       "      <td>Education empowers knowledge, In today's circu...</td>\n",
       "    </tr>\n",
       "    <tr>\n",
       "      <th>16455</th>\n",
       "      <td>2.It is becoming increasingly popular to have ...</td>\n",
       "      <td>Taking a gap year off between finishing school...</td>\n",
       "    </tr>\n",
       "    <tr>\n",
       "      <th>16456</th>\n",
       "      <td>Modern children are suffering from the disease...</td>\n",
       "      <td>Being obese was once only a condition that adu...</td>\n",
       "    </tr>\n",
       "  </tbody>\n",
       "</table>\n",
       "<p>16457 rows × 2 columns</p>\n",
       "</div>"
      ],
      "text/plain": [
       "                                                  prompt  \\\n",
       "0      Some people believe that entertainers are paid...   \n",
       "1      School children are becoming far too dependent...   \n",
       "2      One of the consequences of improved medical ca...   \n",
       "3      Some people think that physical strength is im...   \n",
       "4      In some countries governments are encouraging ...   \n",
       "...                                                  ...   \n",
       "16452  Some people believe that teenagers should conc...   \n",
       "16453  Some people say it is a waste of time to plan ...   \n",
       "16454  Do you agree or disagree with the following st...   \n",
       "16455  2.It is becoming increasingly popular to have ...   \n",
       "16456  Modern children are suffering from the disease...   \n",
       "\n",
       "                                                   essay  \n",
       "0      The entertainment industry is one of the large...  \n",
       "1      Children are born into the digital world. From...  \n",
       "2      Since the medical care system has made signifi...  \n",
       "3      Physical energy is considered to be an imperat...  \n",
       "4      Nowadays, industry and business have been enco...  \n",
       "...                                                  ...  \n",
       "16452  All foundation school subjects should be focus...  \n",
       "16453  People have always been concerned with their f...  \n",
       "16454  Education empowers knowledge, In today's circu...  \n",
       "16455  Taking a gap year off between finishing school...  \n",
       "16456  Being obese was once only a condition that adu...  \n",
       "\n",
       "[16457 rows x 2 columns]"
      ]
     },
     "execution_count": 5,
     "metadata": {},
     "output_type": "execute_result"
    }
   ],
   "source": [
    "df"
   ]
  },
  {
   "cell_type": "code",
   "execution_count": 6,
   "id": "6b0f2f26",
   "metadata": {
    "execution": {
     "iopub.execute_input": "2025-05-26T09:04:59.341401Z",
     "iopub.status.busy": "2025-05-26T09:04:59.340995Z",
     "iopub.status.idle": "2025-05-26T09:04:59.345784Z",
     "shell.execute_reply": "2025-05-26T09:04:59.345032Z"
    },
    "papermill": {
     "duration": 0.011367,
     "end_time": "2025-05-26T09:04:59.346898",
     "exception": false,
     "start_time": "2025-05-26T09:04:59.335531",
     "status": "completed"
    },
    "tags": []
   },
   "outputs": [
    {
     "name": "stdout",
     "output_type": "stream",
     "text": [
      "Prompt: People living in the 21st century have a better quality of life than the previous centuries. To what extent do you agree or disagree?\n",
      "Essay: Given the fast-paced development, an increase in quality of life is more frequently witnessed in individuals’ lives these days than in the past. I agree with the opinion and this essay attempts to shed light on the reasons explaining my perspective.\n",
      "First and foremost, with the presence and evolution of technology, humans can take advantage of them to facilitate their lives in terms of health services. Specifically, top-notch equipment would be an excellent tool to allow doctors to implement several sophisticated treatments, thereby leading to a decline in the death rate due to some diseases that were considered not to be able to be dealt with in the previous centuries. For instance, medical devices can be provided for doctors and nurses in order that they can carry out essential research to figure out the best way to treat their patients successfully. As a consequence, people would be more optimistic and elated instead of being depressed when they realized their adverse fatigues.\n",
      "Furthermore, there are increasingly entertaining facilities built which can contribute to the rise in the happiness of residents. Those people encountering a host of challenges and also under pressure such as financial burdens or peer pressure may desire to seek some destination to hang out with friends or families so that they can let their hair down. Hence, not only can the emergence of those facilities relieve individuals’ stress effectively, but also they can create numerous job opportunities for society that may decrease the unemployment rate.\n",
      "In conclusion, I do agree with the notion that people in the present acquire ideal lives when it comes to several fields namely health service and the inhabitants’ happiness, thus they would be able to surpass their predecessors.\n",
      "Prompt: Schools should teach students how to become successful in their work instead of focusing on academic success. Do you agree or disagree?\n",
      "Essay: The desire of supporting oneself is luring more and more college students to take part-time jobs outside of school, which has gradually become a trend throughout campus. Young people at this age have the need to prove that they are mature enough and can live on their own. However, when more college students are stepping out of the campus looking for real life, they don't realize that the temptations outside, the damage to their imagination, and the time and energy that they will need to devote to a job may actually jeopardize their minds. One of the disadvantages of taking part-time jobs during college is that students may be tempted by the material world. Different from campus life where everyone is the same, in the real world people are divided into different levels. College students, being somewhat egoistic and ambitious, would soon be tempted by power and social status and forget that they are still students. Moreover, beautiful clothes, delicious food, and luxurious cars can easily attract students' attention and lead them to chase after material things. One possible result is that students won't be able to sit in the classroom and focus on their subjects anymore, let alone spend years working on their research. In addition, taking part-time jobs would influence students to become more realistic and would take away their imaginations. While college students are dreaming of developing new technology and changing the world, business people in society are caring about how much profit they can make out of their investments. Students having experienced the real world tend to consider so much more than others, including money, advertising, and possibilities, etc. Gradually, their imaginations would be damaged. Then, we will only have a bunch of engineers instead of scientists. After all, students' priority is studying. Since taking a part-time job may mess with students' minds, ruin their imaginations, and waste their time and energy, students should not take the risk. Jobs will always be there. College students do not need to be in such a hurry to find employment.\n",
      "Prompt: First impressions are important. Some people think that doing well in interviews is the key to securing a good job. To what extent do you agree?\n",
      "Essay: There are multiple factors involved in the hiring process of a company,ranging from excellent academic background to past experiences.Some individuals believe that doing well in the interviews plays a key role in selection . I consider the interview to be a crucial part of the hiring process however I do not agree that it is the most important. Other points such as the achievements and professional background of the candidate are significant in this process.\n",
      "Apart from good oral communication skills, achievements in other co-curricular activities are also a pivotal consideration.For example, stats show that J.P. Morgan Chase, an investment bank, tends to hire more youngsters to assess behaviour rather than focusing solely on good academic performance.  While it demonstrates if the candidate is the best fit for the job it also signifies the importance of participating in these events. Therefore, participation in extracurricular projects stands out for the interviewee in the line.\n",
      "Moreover,  professional exposure in the same field  is a valuable asset.While good interviewing ability indicates strong engagement capabilities, expertise in the desired job is a more weighted factor in selection criteria.For instance, experience is highly prevalent  in  upper-level positions in a company. Most young individuals fail to secure job offers owing to a lack of practical understanding.Therefore, even a good interview does not fully assure of employment guarantee.   \n",
      "In conclusion, It is a fact that doing well in the interview  will not solely increase the probability of getting the offer letter.Thus, demonstrating a range of skills and past experience at the workplace also plays a key role.\n"
     ]
    }
   ],
   "source": [
    "step = 6000\n",
    "for i in range(500, len(df), step):\n",
    "    print(\"Prompt:\", df[\"prompt\"][i])\n",
    "    print(\"Essay:\", df[\"essay\"][i])\n"
   ]
  },
  {
   "cell_type": "code",
   "execution_count": 7,
   "id": "b1b905f6",
   "metadata": {
    "execution": {
     "iopub.execute_input": "2025-05-26T09:04:59.357541Z",
     "iopub.status.busy": "2025-05-26T09:04:59.357343Z",
     "iopub.status.idle": "2025-05-26T09:04:59.360174Z",
     "shell.execute_reply": "2025-05-26T09:04:59.359662Z"
    },
    "papermill": {
     "duration": 0.009242,
     "end_time": "2025-05-26T09:04:59.361154",
     "exception": false,
     "start_time": "2025-05-26T09:04:59.351912",
     "status": "completed"
    },
    "tags": []
   },
   "outputs": [],
   "source": [
    "# n_test = 40\n",
    "\n",
    "# # test set: last 40 rows\n",
    "# test_df = df.iloc[-n_test:].reset_index(drop=True)\n",
    "\n",
    "# # train set: all the other rows\n",
    "# train_df = df.iloc[:-n_test].reset_index(drop=True)"
   ]
  },
  {
   "cell_type": "code",
   "execution_count": 8,
   "id": "d8c11fa8",
   "metadata": {
    "execution": {
     "iopub.execute_input": "2025-05-26T09:04:59.371804Z",
     "iopub.status.busy": "2025-05-26T09:04:59.371557Z",
     "iopub.status.idle": "2025-05-26T09:04:59.374581Z",
     "shell.execute_reply": "2025-05-26T09:04:59.374040Z"
    },
    "papermill": {
     "duration": 0.00945,
     "end_time": "2025-05-26T09:04:59.375600",
     "exception": false,
     "start_time": "2025-05-26T09:04:59.366150",
     "status": "completed"
    },
    "tags": []
   },
   "outputs": [],
   "source": [
    "# test_df"
   ]
  },
  {
   "cell_type": "code",
   "execution_count": 9,
   "id": "4f0b26d4",
   "metadata": {
    "execution": {
     "iopub.execute_input": "2025-05-26T09:04:59.386563Z",
     "iopub.status.busy": "2025-05-26T09:04:59.386389Z",
     "iopub.status.idle": "2025-05-26T09:04:59.389407Z",
     "shell.execute_reply": "2025-05-26T09:04:59.388760Z"
    },
    "papermill": {
     "duration": 0.009506,
     "end_time": "2025-05-26T09:04:59.390447",
     "exception": false,
     "start_time": "2025-05-26T09:04:59.380941",
     "status": "completed"
    },
    "tags": []
   },
   "outputs": [],
   "source": [
    "# text = \"Prompt: \" + test_df[\"prompt\"][2] + \"\\nEssay: \" + test_df[\"essay\"][2]"
   ]
  },
  {
   "cell_type": "code",
   "execution_count": 10,
   "id": "8d5b675e",
   "metadata": {
    "execution": {
     "iopub.execute_input": "2025-05-26T09:04:59.401251Z",
     "iopub.status.busy": "2025-05-26T09:04:59.400601Z",
     "iopub.status.idle": "2025-05-26T09:04:59.403561Z",
     "shell.execute_reply": "2025-05-26T09:04:59.403052Z"
    },
    "papermill": {
     "duration": 0.009233,
     "end_time": "2025-05-26T09:04:59.404569",
     "exception": false,
     "start_time": "2025-05-26T09:04:59.395336",
     "status": "completed"
    },
    "tags": []
   },
   "outputs": [],
   "source": [
    "# print(text)"
   ]
  },
  {
   "cell_type": "markdown",
   "id": "5f2e1df2",
   "metadata": {
    "papermill": {
     "duration": 0.004747,
     "end_time": "2025-05-26T09:04:59.414407",
     "exception": false,
     "start_time": "2025-05-26T09:04:59.409660",
     "status": "completed"
    },
    "tags": []
   },
   "source": [
    "## Custom Dataset"
   ]
  },
  {
   "cell_type": "code",
   "execution_count": 11,
   "id": "c580cdea",
   "metadata": {
    "execution": {
     "iopub.execute_input": "2025-05-26T09:04:59.424947Z",
     "iopub.status.busy": "2025-05-26T09:04:59.424690Z",
     "iopub.status.idle": "2025-05-26T09:05:23.171759Z",
     "shell.execute_reply": "2025-05-26T09:05:23.171158Z"
    },
    "papermill": {
     "duration": 23.753753,
     "end_time": "2025-05-26T09:05:23.173101",
     "exception": false,
     "start_time": "2025-05-26T09:04:59.419348",
     "status": "completed"
    },
    "tags": []
   },
   "outputs": [
    {
     "name": "stderr",
     "output_type": "stream",
     "text": [
      "2025-05-26 09:05:10.271487: E external/local_xla/xla/stream_executor/cuda/cuda_fft.cc:477] Unable to register cuFFT factory: Attempting to register factory for plugin cuFFT when one has already been registered\n",
      "WARNING: All log messages before absl::InitializeLog() is called are written to STDERR\n",
      "E0000 00:00:1748250310.435434      19 cuda_dnn.cc:8310] Unable to register cuDNN factory: Attempting to register factory for plugin cuDNN when one has already been registered\n",
      "E0000 00:00:1748250310.487331      19 cuda_blas.cc:1418] Unable to register cuBLAS factory: Attempting to register factory for plugin cuBLAS when one has already been registered\n"
     ]
    }
   ],
   "source": [
    "import pandas as pd\n",
    "import torch\n",
    "from torch.utils.data import Dataset\n",
    "from transformers import GPT2TokenizerFast, GPT2LMHeadModel, Trainer, TrainingArguments, DataCollatorForLanguageModeling, GPT2Config"
   ]
  },
  {
   "cell_type": "code",
   "execution_count": 12,
   "id": "af108202",
   "metadata": {
    "execution": {
     "iopub.execute_input": "2025-05-26T09:05:23.185006Z",
     "iopub.status.busy": "2025-05-26T09:05:23.184265Z",
     "iopub.status.idle": "2025-05-26T09:05:23.190087Z",
     "shell.execute_reply": "2025-05-26T09:05:23.189433Z"
    },
    "papermill": {
     "duration": 0.012654,
     "end_time": "2025-05-26T09:05:23.191144",
     "exception": false,
     "start_time": "2025-05-26T09:05:23.178490",
     "status": "completed"
    },
    "tags": []
   },
   "outputs": [],
   "source": [
    "class PromptEssayDataset(Dataset):\n",
    "    def __init__(self, dataframe, tokenizer, max_length=512):\n",
    "        self.tokenizer = tokenizer\n",
    "        self.max_length = max_length\n",
    "        self.examples = []\n",
    "        for _, row in dataframe.iterrows():\n",
    "            prompt = row['prompt'].strip()\n",
    "            essay = (row['essay'] + \" <end_of_essay>\").strip()\n",
    "            # Combine prompt and essay with EOS separators\n",
    "            text = prompt + tokenizer.eos_token + essay\n",
    "            # Tokenize + pad + truncate in one go (fast tokenizer)\n",
    "            enc = tokenizer(\n",
    "                text,\n",
    "                truncation=True,\n",
    "                max_length=self.max_length,\n",
    "                padding='max_length',\n",
    "                return_tensors='pt'\n",
    "            )\n",
    "            self.examples.append({\n",
    "                'input_ids': enc['input_ids'].squeeze(),\n",
    "                'attention_mask': enc['attention_mask'].squeeze(),\n",
    "                'labels': enc['input_ids'].squeeze().clone()\n",
    "            })\n",
    "\n",
    "    def __len__(self):\n",
    "        return len(self.examples)\n",
    "\n",
    "    def __getitem__(self, idx):\n",
    "        return self.examples[idx]"
   ]
  },
  {
   "cell_type": "markdown",
   "id": "3815bc42",
   "metadata": {
    "papermill": {
     "duration": 0.004794,
     "end_time": "2025-05-26T09:05:23.201030",
     "exception": false,
     "start_time": "2025-05-26T09:05:23.196236",
     "status": "completed"
    },
    "tags": []
   },
   "source": [
    "## Get tokenizer of GPT2"
   ]
  },
  {
   "cell_type": "code",
   "execution_count": 13,
   "id": "200e0990",
   "metadata": {
    "execution": {
     "iopub.execute_input": "2025-05-26T09:05:23.211873Z",
     "iopub.status.busy": "2025-05-26T09:05:23.211498Z",
     "iopub.status.idle": "2025-05-26T09:05:23.214708Z",
     "shell.execute_reply": "2025-05-26T09:05:23.214056Z"
    },
    "papermill": {
     "duration": 0.009708,
     "end_time": "2025-05-26T09:05:23.215749",
     "exception": false,
     "start_time": "2025-05-26T09:05:23.206041",
     "status": "completed"
    },
    "tags": []
   },
   "outputs": [],
   "source": [
    "from transformers import AutoTokenizer, AutoModelForCausalLM"
   ]
  },
  {
   "cell_type": "code",
   "execution_count": 14,
   "id": "6a2d0c40",
   "metadata": {
    "execution": {
     "iopub.execute_input": "2025-05-26T09:05:23.226531Z",
     "iopub.status.busy": "2025-05-26T09:05:23.226137Z",
     "iopub.status.idle": "2025-05-26T09:05:49.795753Z",
     "shell.execute_reply": "2025-05-26T09:05:49.794938Z"
    },
    "papermill": {
     "duration": 26.57657,
     "end_time": "2025-05-26T09:05:49.797246",
     "exception": false,
     "start_time": "2025-05-26T09:05:23.220676",
     "status": "completed"
    },
    "tags": []
   },
   "outputs": [],
   "source": [
    "\n",
    "# # Import tokenizer\n",
    "# tokenizer = GPT2TokenizerFast.from_pretrained(\"gpt2-medium\")\n",
    "# special_tokens_dict = {\n",
    "#     'eos_token': '',\n",
    "#     'pad_token': '',\n",
    "#     'additional_special_tokens': ['<end_of_essay>']\n",
    "# }\n",
    "# tokenizer.add_special_tokens(special_tokens_dict)\n",
    "\n",
    "tokenizer = AutoTokenizer.from_pretrained(\"/kaggle/input/fine-tunedgpt2/gpt2-essay-finetuned\")\n",
    "\n",
    "dataset = PromptEssayDataset(df, tokenizer, max_length=512)"
   ]
  },
  {
   "cell_type": "markdown",
   "id": "44ff2924",
   "metadata": {
    "papermill": {
     "duration": 0.004979,
     "end_time": "2025-05-26T09:05:49.807901",
     "exception": false,
     "start_time": "2025-05-26T09:05:49.802922",
     "status": "completed"
    },
    "tags": []
   },
   "source": [
    "# Model"
   ]
  },
  {
   "cell_type": "code",
   "execution_count": 15,
   "id": "60a6957e",
   "metadata": {
    "execution": {
     "iopub.execute_input": "2025-05-26T09:05:49.818692Z",
     "iopub.status.busy": "2025-05-26T09:05:49.818444Z",
     "iopub.status.idle": "2025-05-26T09:05:49.821827Z",
     "shell.execute_reply": "2025-05-26T09:05:49.821117Z"
    },
    "papermill": {
     "duration": 0.01015,
     "end_time": "2025-05-26T09:05:49.823034",
     "exception": false,
     "start_time": "2025-05-26T09:05:49.812884",
     "status": "completed"
    },
    "tags": []
   },
   "outputs": [],
   "source": [
    "# from transformers import GPT2Config\n",
    "\n",
    "# # Load cogfig of gpt2\n",
    "# config = GPT2Config.from_pretrained(\"gpt2-medium\", loss_type=\"causal_lm\")\n",
    "\n",
    "# \"\"\" Load model with config \"\"\"\n",
    "# model = GPT2LMHeadModel.from_pretrained(\"gpt2-medium\", config=config)\n",
    "\n",
    "# model.resize_token_embeddings(len(tokenizer))"
   ]
  },
  {
   "cell_type": "code",
   "execution_count": 16,
   "id": "05e9ffec",
   "metadata": {
    "execution": {
     "iopub.execute_input": "2025-05-26T09:05:49.834445Z",
     "iopub.status.busy": "2025-05-26T09:05:49.833790Z",
     "iopub.status.idle": "2025-05-26T09:05:50.882572Z",
     "shell.execute_reply": "2025-05-26T09:05:50.881976Z"
    },
    "papermill": {
     "duration": 1.055763,
     "end_time": "2025-05-26T09:05:50.883974",
     "exception": false,
     "start_time": "2025-05-26T09:05:49.828211",
     "status": "completed"
    },
    "tags": []
   },
   "outputs": [],
   "source": [
    "# from transformers import AutoTokenizer, AutoModelForCausalLM\n",
    "model = AutoModelForCausalLM.from_pretrained(\"/kaggle/input/fine-tunedgpt2/gpt2-essay-finetuned\")"
   ]
  },
  {
   "cell_type": "markdown",
   "id": "7b790997",
   "metadata": {
    "papermill": {
     "duration": 0.004932,
     "end_time": "2025-05-26T09:05:50.894422",
     "exception": false,
     "start_time": "2025-05-26T09:05:50.889490",
     "status": "completed"
    },
    "tags": []
   },
   "source": [
    "## Trainer api"
   ]
  },
  {
   "cell_type": "code",
   "execution_count": 17,
   "id": "881dcdd6",
   "metadata": {
    "execution": {
     "iopub.execute_input": "2025-05-26T09:05:50.905422Z",
     "iopub.status.busy": "2025-05-26T09:05:50.905185Z",
     "iopub.status.idle": "2025-05-26T09:06:01.607670Z",
     "shell.execute_reply": "2025-05-26T09:06:01.606867Z"
    },
    "papermill": {
     "duration": 10.709705,
     "end_time": "2025-05-26T09:06:01.609215",
     "exception": false,
     "start_time": "2025-05-26T09:05:50.899510",
     "status": "completed"
    },
    "tags": []
   },
   "outputs": [],
   "source": [
    "# Training arguments\n",
    "training_args = TrainingArguments(\n",
    "    output_dir=\"./gpt2-essay-finetuned\",\n",
    "    overwrite_output_dir=True,\n",
    "    num_train_epochs=4,\n",
    "    per_device_train_batch_size=1,\n",
    "    gradient_accumulation_steps=8,\n",
    "    learning_rate=5e-5,\n",
    "    weight_decay=0.01,\n",
    "    warmup_steps=100,\n",
    "    logging_dir=\"./logs\",\n",
    "    logging_steps=50,\n",
    "    save_steps=250,\n",
    "    save_total_limit=2,\n",
    "    fp16=torch.cuda.is_available(),\n",
    "    report_to=\"none\",\n",
    ")\n",
    "\n",
    "# 4. Data collator (just handles LM labels)\n",
    "data_collator = DataCollatorForLanguageModeling(\n",
    "    tokenizer=tokenizer,\n",
    "    mlm=False\n",
    ")\n",
    "\n",
    "# 5. Trainer setup\n",
    "trainer = Trainer(\n",
    "    model=model,\n",
    "    args=training_args,\n",
    "    train_dataset=dataset,\n",
    "    data_collator=data_collator\n",
    ")\n"
   ]
  },
  {
   "cell_type": "markdown",
   "id": "9be1f7cd",
   "metadata": {
    "papermill": {
     "duration": 0.004787,
     "end_time": "2025-05-26T09:06:01.619382",
     "exception": false,
     "start_time": "2025-05-26T09:06:01.614595",
     "status": "completed"
    },
    "tags": []
   },
   "source": [
    "## Train model"
   ]
  },
  {
   "cell_type": "code",
   "execution_count": 18,
   "id": "171ae23d",
   "metadata": {
    "execution": {
     "iopub.execute_input": "2025-05-26T09:06:01.630126Z",
     "iopub.status.busy": "2025-05-26T09:06:01.629896Z",
     "iopub.status.idle": "2025-05-26T16:13:55.135101Z",
     "shell.execute_reply": "2025-05-26T16:13:55.134322Z"
    },
    "papermill": {
     "duration": 25673.514671,
     "end_time": "2025-05-26T16:13:55.139053",
     "exception": false,
     "start_time": "2025-05-26T09:06:01.624382",
     "status": "completed"
    },
    "tags": []
   },
   "outputs": [
    {
     "name": "stdout",
     "output_type": "stream",
     "text": [
      "Start Training\n"
     ]
    },
    {
     "name": "stderr",
     "output_type": "stream",
     "text": [
      "`loss_type=None` was set in the config but it is unrecognised.Using the default loss: `ForCausalLMLoss`.\n"
     ]
    },
    {
     "data": {
      "text/html": [
       "\n",
       "    <div>\n",
       "      \n",
       "      <progress value='8228' max='8228' style='width:300px; height:20px; vertical-align: middle;'></progress>\n",
       "      [8228/8228 7:07:49, Epoch 3/4]\n",
       "    </div>\n",
       "    <table border=\"1\" class=\"dataframe\">\n",
       "  <thead>\n",
       " <tr style=\"text-align: left;\">\n",
       "      <th>Step</th>\n",
       "      <th>Training Loss</th>\n",
       "    </tr>\n",
       "  </thead>\n",
       "  <tbody>\n",
       "    <tr>\n",
       "      <td>50</td>\n",
       "      <td>2.700100</td>\n",
       "    </tr>\n",
       "    <tr>\n",
       "      <td>100</td>\n",
       "      <td>2.675200</td>\n",
       "    </tr>\n",
       "    <tr>\n",
       "      <td>150</td>\n",
       "      <td>2.637900</td>\n",
       "    </tr>\n",
       "    <tr>\n",
       "      <td>200</td>\n",
       "      <td>2.657400</td>\n",
       "    </tr>\n",
       "    <tr>\n",
       "      <td>250</td>\n",
       "      <td>2.674400</td>\n",
       "    </tr>\n",
       "    <tr>\n",
       "      <td>300</td>\n",
       "      <td>2.663200</td>\n",
       "    </tr>\n",
       "    <tr>\n",
       "      <td>350</td>\n",
       "      <td>2.616800</td>\n",
       "    </tr>\n",
       "    <tr>\n",
       "      <td>400</td>\n",
       "      <td>2.632500</td>\n",
       "    </tr>\n",
       "    <tr>\n",
       "      <td>450</td>\n",
       "      <td>2.631800</td>\n",
       "    </tr>\n",
       "    <tr>\n",
       "      <td>500</td>\n",
       "      <td>2.531100</td>\n",
       "    </tr>\n",
       "    <tr>\n",
       "      <td>550</td>\n",
       "      <td>2.548400</td>\n",
       "    </tr>\n",
       "    <tr>\n",
       "      <td>600</td>\n",
       "      <td>2.570500</td>\n",
       "    </tr>\n",
       "    <tr>\n",
       "      <td>650</td>\n",
       "      <td>2.593200</td>\n",
       "    </tr>\n",
       "    <tr>\n",
       "      <td>700</td>\n",
       "      <td>2.576400</td>\n",
       "    </tr>\n",
       "    <tr>\n",
       "      <td>750</td>\n",
       "      <td>2.571000</td>\n",
       "    </tr>\n",
       "    <tr>\n",
       "      <td>800</td>\n",
       "      <td>2.542700</td>\n",
       "    </tr>\n",
       "    <tr>\n",
       "      <td>850</td>\n",
       "      <td>2.569500</td>\n",
       "    </tr>\n",
       "    <tr>\n",
       "      <td>900</td>\n",
       "      <td>2.561000</td>\n",
       "    </tr>\n",
       "    <tr>\n",
       "      <td>950</td>\n",
       "      <td>2.542500</td>\n",
       "    </tr>\n",
       "    <tr>\n",
       "      <td>1000</td>\n",
       "      <td>2.553500</td>\n",
       "    </tr>\n",
       "    <tr>\n",
       "      <td>1050</td>\n",
       "      <td>2.568200</td>\n",
       "    </tr>\n",
       "    <tr>\n",
       "      <td>1100</td>\n",
       "      <td>2.555200</td>\n",
       "    </tr>\n",
       "    <tr>\n",
       "      <td>1150</td>\n",
       "      <td>2.521200</td>\n",
       "    </tr>\n",
       "    <tr>\n",
       "      <td>1200</td>\n",
       "      <td>2.568800</td>\n",
       "    </tr>\n",
       "    <tr>\n",
       "      <td>1250</td>\n",
       "      <td>2.508400</td>\n",
       "    </tr>\n",
       "    <tr>\n",
       "      <td>1300</td>\n",
       "      <td>2.518400</td>\n",
       "    </tr>\n",
       "    <tr>\n",
       "      <td>1350</td>\n",
       "      <td>2.521200</td>\n",
       "    </tr>\n",
       "    <tr>\n",
       "      <td>1400</td>\n",
       "      <td>2.517400</td>\n",
       "    </tr>\n",
       "    <tr>\n",
       "      <td>1450</td>\n",
       "      <td>2.521900</td>\n",
       "    </tr>\n",
       "    <tr>\n",
       "      <td>1500</td>\n",
       "      <td>2.499000</td>\n",
       "    </tr>\n",
       "    <tr>\n",
       "      <td>1550</td>\n",
       "      <td>2.513600</td>\n",
       "    </tr>\n",
       "    <tr>\n",
       "      <td>1600</td>\n",
       "      <td>2.504200</td>\n",
       "    </tr>\n",
       "    <tr>\n",
       "      <td>1650</td>\n",
       "      <td>2.502800</td>\n",
       "    </tr>\n",
       "    <tr>\n",
       "      <td>1700</td>\n",
       "      <td>2.490900</td>\n",
       "    </tr>\n",
       "    <tr>\n",
       "      <td>1750</td>\n",
       "      <td>2.479700</td>\n",
       "    </tr>\n",
       "    <tr>\n",
       "      <td>1800</td>\n",
       "      <td>2.475500</td>\n",
       "    </tr>\n",
       "    <tr>\n",
       "      <td>1850</td>\n",
       "      <td>2.521000</td>\n",
       "    </tr>\n",
       "    <tr>\n",
       "      <td>1900</td>\n",
       "      <td>2.493800</td>\n",
       "    </tr>\n",
       "    <tr>\n",
       "      <td>1950</td>\n",
       "      <td>2.492000</td>\n",
       "    </tr>\n",
       "    <tr>\n",
       "      <td>2000</td>\n",
       "      <td>2.513900</td>\n",
       "    </tr>\n",
       "    <tr>\n",
       "      <td>2050</td>\n",
       "      <td>2.458500</td>\n",
       "    </tr>\n",
       "    <tr>\n",
       "      <td>2100</td>\n",
       "      <td>2.366600</td>\n",
       "    </tr>\n",
       "    <tr>\n",
       "      <td>2150</td>\n",
       "      <td>2.376600</td>\n",
       "    </tr>\n",
       "    <tr>\n",
       "      <td>2200</td>\n",
       "      <td>2.386500</td>\n",
       "    </tr>\n",
       "    <tr>\n",
       "      <td>2250</td>\n",
       "      <td>2.388800</td>\n",
       "    </tr>\n",
       "    <tr>\n",
       "      <td>2300</td>\n",
       "      <td>2.378900</td>\n",
       "    </tr>\n",
       "    <tr>\n",
       "      <td>2350</td>\n",
       "      <td>2.380100</td>\n",
       "    </tr>\n",
       "    <tr>\n",
       "      <td>2400</td>\n",
       "      <td>2.368500</td>\n",
       "    </tr>\n",
       "    <tr>\n",
       "      <td>2450</td>\n",
       "      <td>2.341900</td>\n",
       "    </tr>\n",
       "    <tr>\n",
       "      <td>2500</td>\n",
       "      <td>2.357100</td>\n",
       "    </tr>\n",
       "    <tr>\n",
       "      <td>2550</td>\n",
       "      <td>2.400800</td>\n",
       "    </tr>\n",
       "    <tr>\n",
       "      <td>2600</td>\n",
       "      <td>2.390300</td>\n",
       "    </tr>\n",
       "    <tr>\n",
       "      <td>2650</td>\n",
       "      <td>2.352300</td>\n",
       "    </tr>\n",
       "    <tr>\n",
       "      <td>2700</td>\n",
       "      <td>2.357700</td>\n",
       "    </tr>\n",
       "    <tr>\n",
       "      <td>2750</td>\n",
       "      <td>2.365100</td>\n",
       "    </tr>\n",
       "    <tr>\n",
       "      <td>2800</td>\n",
       "      <td>2.369600</td>\n",
       "    </tr>\n",
       "    <tr>\n",
       "      <td>2850</td>\n",
       "      <td>2.352900</td>\n",
       "    </tr>\n",
       "    <tr>\n",
       "      <td>2900</td>\n",
       "      <td>2.332200</td>\n",
       "    </tr>\n",
       "    <tr>\n",
       "      <td>2950</td>\n",
       "      <td>2.394300</td>\n",
       "    </tr>\n",
       "    <tr>\n",
       "      <td>3000</td>\n",
       "      <td>2.332800</td>\n",
       "    </tr>\n",
       "    <tr>\n",
       "      <td>3050</td>\n",
       "      <td>2.364400</td>\n",
       "    </tr>\n",
       "    <tr>\n",
       "      <td>3100</td>\n",
       "      <td>2.336500</td>\n",
       "    </tr>\n",
       "    <tr>\n",
       "      <td>3150</td>\n",
       "      <td>2.360200</td>\n",
       "    </tr>\n",
       "    <tr>\n",
       "      <td>3200</td>\n",
       "      <td>2.317400</td>\n",
       "    </tr>\n",
       "    <tr>\n",
       "      <td>3250</td>\n",
       "      <td>2.366400</td>\n",
       "    </tr>\n",
       "    <tr>\n",
       "      <td>3300</td>\n",
       "      <td>2.363400</td>\n",
       "    </tr>\n",
       "    <tr>\n",
       "      <td>3350</td>\n",
       "      <td>2.354500</td>\n",
       "    </tr>\n",
       "    <tr>\n",
       "      <td>3400</td>\n",
       "      <td>2.321900</td>\n",
       "    </tr>\n",
       "    <tr>\n",
       "      <td>3450</td>\n",
       "      <td>2.348600</td>\n",
       "    </tr>\n",
       "    <tr>\n",
       "      <td>3500</td>\n",
       "      <td>2.361300</td>\n",
       "    </tr>\n",
       "    <tr>\n",
       "      <td>3550</td>\n",
       "      <td>2.390700</td>\n",
       "    </tr>\n",
       "    <tr>\n",
       "      <td>3600</td>\n",
       "      <td>2.362800</td>\n",
       "    </tr>\n",
       "    <tr>\n",
       "      <td>3650</td>\n",
       "      <td>2.350900</td>\n",
       "    </tr>\n",
       "    <tr>\n",
       "      <td>3700</td>\n",
       "      <td>2.371700</td>\n",
       "    </tr>\n",
       "    <tr>\n",
       "      <td>3750</td>\n",
       "      <td>2.347000</td>\n",
       "    </tr>\n",
       "    <tr>\n",
       "      <td>3800</td>\n",
       "      <td>2.351700</td>\n",
       "    </tr>\n",
       "    <tr>\n",
       "      <td>3850</td>\n",
       "      <td>2.335400</td>\n",
       "    </tr>\n",
       "    <tr>\n",
       "      <td>3900</td>\n",
       "      <td>2.336900</td>\n",
       "    </tr>\n",
       "    <tr>\n",
       "      <td>3950</td>\n",
       "      <td>2.352200</td>\n",
       "    </tr>\n",
       "    <tr>\n",
       "      <td>4000</td>\n",
       "      <td>2.332900</td>\n",
       "    </tr>\n",
       "    <tr>\n",
       "      <td>4050</td>\n",
       "      <td>2.336000</td>\n",
       "    </tr>\n",
       "    <tr>\n",
       "      <td>4100</td>\n",
       "      <td>2.344600</td>\n",
       "    </tr>\n",
       "    <tr>\n",
       "      <td>4150</td>\n",
       "      <td>2.265000</td>\n",
       "    </tr>\n",
       "    <tr>\n",
       "      <td>4200</td>\n",
       "      <td>2.243300</td>\n",
       "    </tr>\n",
       "    <tr>\n",
       "      <td>4250</td>\n",
       "      <td>2.236300</td>\n",
       "    </tr>\n",
       "    <tr>\n",
       "      <td>4300</td>\n",
       "      <td>2.289900</td>\n",
       "    </tr>\n",
       "    <tr>\n",
       "      <td>4350</td>\n",
       "      <td>2.250000</td>\n",
       "    </tr>\n",
       "    <tr>\n",
       "      <td>4400</td>\n",
       "      <td>2.256100</td>\n",
       "    </tr>\n",
       "    <tr>\n",
       "      <td>4450</td>\n",
       "      <td>2.230900</td>\n",
       "    </tr>\n",
       "    <tr>\n",
       "      <td>4500</td>\n",
       "      <td>2.238800</td>\n",
       "    </tr>\n",
       "    <tr>\n",
       "      <td>4550</td>\n",
       "      <td>2.302000</td>\n",
       "    </tr>\n",
       "    <tr>\n",
       "      <td>4600</td>\n",
       "      <td>2.268400</td>\n",
       "    </tr>\n",
       "    <tr>\n",
       "      <td>4650</td>\n",
       "      <td>2.222000</td>\n",
       "    </tr>\n",
       "    <tr>\n",
       "      <td>4700</td>\n",
       "      <td>2.269500</td>\n",
       "    </tr>\n",
       "    <tr>\n",
       "      <td>4750</td>\n",
       "      <td>2.241900</td>\n",
       "    </tr>\n",
       "    <tr>\n",
       "      <td>4800</td>\n",
       "      <td>2.241500</td>\n",
       "    </tr>\n",
       "    <tr>\n",
       "      <td>4850</td>\n",
       "      <td>2.265500</td>\n",
       "    </tr>\n",
       "    <tr>\n",
       "      <td>4900</td>\n",
       "      <td>2.254100</td>\n",
       "    </tr>\n",
       "    <tr>\n",
       "      <td>4950</td>\n",
       "      <td>2.227900</td>\n",
       "    </tr>\n",
       "    <tr>\n",
       "      <td>5000</td>\n",
       "      <td>2.221500</td>\n",
       "    </tr>\n",
       "    <tr>\n",
       "      <td>5050</td>\n",
       "      <td>2.271200</td>\n",
       "    </tr>\n",
       "    <tr>\n",
       "      <td>5100</td>\n",
       "      <td>2.232100</td>\n",
       "    </tr>\n",
       "    <tr>\n",
       "      <td>5150</td>\n",
       "      <td>2.280500</td>\n",
       "    </tr>\n",
       "    <tr>\n",
       "      <td>5200</td>\n",
       "      <td>2.231100</td>\n",
       "    </tr>\n",
       "    <tr>\n",
       "      <td>5250</td>\n",
       "      <td>2.218100</td>\n",
       "    </tr>\n",
       "    <tr>\n",
       "      <td>5300</td>\n",
       "      <td>2.258600</td>\n",
       "    </tr>\n",
       "    <tr>\n",
       "      <td>5350</td>\n",
       "      <td>2.237300</td>\n",
       "    </tr>\n",
       "    <tr>\n",
       "      <td>5400</td>\n",
       "      <td>2.261000</td>\n",
       "    </tr>\n",
       "    <tr>\n",
       "      <td>5450</td>\n",
       "      <td>2.243900</td>\n",
       "    </tr>\n",
       "    <tr>\n",
       "      <td>5500</td>\n",
       "      <td>2.222700</td>\n",
       "    </tr>\n",
       "    <tr>\n",
       "      <td>5550</td>\n",
       "      <td>2.257100</td>\n",
       "    </tr>\n",
       "    <tr>\n",
       "      <td>5600</td>\n",
       "      <td>2.249500</td>\n",
       "    </tr>\n",
       "    <tr>\n",
       "      <td>5650</td>\n",
       "      <td>2.215800</td>\n",
       "    </tr>\n",
       "    <tr>\n",
       "      <td>5700</td>\n",
       "      <td>2.269100</td>\n",
       "    </tr>\n",
       "    <tr>\n",
       "      <td>5750</td>\n",
       "      <td>2.268700</td>\n",
       "    </tr>\n",
       "    <tr>\n",
       "      <td>5800</td>\n",
       "      <td>2.236800</td>\n",
       "    </tr>\n",
       "    <tr>\n",
       "      <td>5850</td>\n",
       "      <td>2.261900</td>\n",
       "    </tr>\n",
       "    <tr>\n",
       "      <td>5900</td>\n",
       "      <td>2.267300</td>\n",
       "    </tr>\n",
       "    <tr>\n",
       "      <td>5950</td>\n",
       "      <td>2.241900</td>\n",
       "    </tr>\n",
       "    <tr>\n",
       "      <td>6000</td>\n",
       "      <td>2.229400</td>\n",
       "    </tr>\n",
       "    <tr>\n",
       "      <td>6050</td>\n",
       "      <td>2.254800</td>\n",
       "    </tr>\n",
       "    <tr>\n",
       "      <td>6100</td>\n",
       "      <td>2.269100</td>\n",
       "    </tr>\n",
       "    <tr>\n",
       "      <td>6150</td>\n",
       "      <td>2.235200</td>\n",
       "    </tr>\n",
       "    <tr>\n",
       "      <td>6200</td>\n",
       "      <td>2.251200</td>\n",
       "    </tr>\n",
       "    <tr>\n",
       "      <td>6250</td>\n",
       "      <td>2.156000</td>\n",
       "    </tr>\n",
       "    <tr>\n",
       "      <td>6300</td>\n",
       "      <td>2.195500</td>\n",
       "    </tr>\n",
       "    <tr>\n",
       "      <td>6350</td>\n",
       "      <td>2.190200</td>\n",
       "    </tr>\n",
       "    <tr>\n",
       "      <td>6400</td>\n",
       "      <td>2.171100</td>\n",
       "    </tr>\n",
       "    <tr>\n",
       "      <td>6450</td>\n",
       "      <td>2.161900</td>\n",
       "    </tr>\n",
       "    <tr>\n",
       "      <td>6500</td>\n",
       "      <td>2.220000</td>\n",
       "    </tr>\n",
       "    <tr>\n",
       "      <td>6550</td>\n",
       "      <td>2.200300</td>\n",
       "    </tr>\n",
       "    <tr>\n",
       "      <td>6600</td>\n",
       "      <td>2.219400</td>\n",
       "    </tr>\n",
       "    <tr>\n",
       "      <td>6650</td>\n",
       "      <td>2.202700</td>\n",
       "    </tr>\n",
       "    <tr>\n",
       "      <td>6700</td>\n",
       "      <td>2.210500</td>\n",
       "    </tr>\n",
       "    <tr>\n",
       "      <td>6750</td>\n",
       "      <td>2.171600</td>\n",
       "    </tr>\n",
       "    <tr>\n",
       "      <td>6800</td>\n",
       "      <td>2.168900</td>\n",
       "    </tr>\n",
       "    <tr>\n",
       "      <td>6850</td>\n",
       "      <td>2.172800</td>\n",
       "    </tr>\n",
       "    <tr>\n",
       "      <td>6900</td>\n",
       "      <td>2.185800</td>\n",
       "    </tr>\n",
       "    <tr>\n",
       "      <td>6950</td>\n",
       "      <td>2.206300</td>\n",
       "    </tr>\n",
       "    <tr>\n",
       "      <td>7000</td>\n",
       "      <td>2.181700</td>\n",
       "    </tr>\n",
       "    <tr>\n",
       "      <td>7050</td>\n",
       "      <td>2.169400</td>\n",
       "    </tr>\n",
       "    <tr>\n",
       "      <td>7100</td>\n",
       "      <td>2.146200</td>\n",
       "    </tr>\n",
       "    <tr>\n",
       "      <td>7150</td>\n",
       "      <td>2.132600</td>\n",
       "    </tr>\n",
       "    <tr>\n",
       "      <td>7200</td>\n",
       "      <td>2.178000</td>\n",
       "    </tr>\n",
       "    <tr>\n",
       "      <td>7250</td>\n",
       "      <td>2.168900</td>\n",
       "    </tr>\n",
       "    <tr>\n",
       "      <td>7300</td>\n",
       "      <td>2.159600</td>\n",
       "    </tr>\n",
       "    <tr>\n",
       "      <td>7350</td>\n",
       "      <td>2.194600</td>\n",
       "    </tr>\n",
       "    <tr>\n",
       "      <td>7400</td>\n",
       "      <td>2.217800</td>\n",
       "    </tr>\n",
       "    <tr>\n",
       "      <td>7450</td>\n",
       "      <td>2.174800</td>\n",
       "    </tr>\n",
       "    <tr>\n",
       "      <td>7500</td>\n",
       "      <td>2.162000</td>\n",
       "    </tr>\n",
       "    <tr>\n",
       "      <td>7550</td>\n",
       "      <td>2.203800</td>\n",
       "    </tr>\n",
       "    <tr>\n",
       "      <td>7600</td>\n",
       "      <td>2.179800</td>\n",
       "    </tr>\n",
       "    <tr>\n",
       "      <td>7650</td>\n",
       "      <td>2.208900</td>\n",
       "    </tr>\n",
       "    <tr>\n",
       "      <td>7700</td>\n",
       "      <td>2.205200</td>\n",
       "    </tr>\n",
       "    <tr>\n",
       "      <td>7750</td>\n",
       "      <td>2.152900</td>\n",
       "    </tr>\n",
       "    <tr>\n",
       "      <td>7800</td>\n",
       "      <td>2.208600</td>\n",
       "    </tr>\n",
       "    <tr>\n",
       "      <td>7850</td>\n",
       "      <td>2.200900</td>\n",
       "    </tr>\n",
       "    <tr>\n",
       "      <td>7900</td>\n",
       "      <td>2.201900</td>\n",
       "    </tr>\n",
       "    <tr>\n",
       "      <td>7950</td>\n",
       "      <td>2.201200</td>\n",
       "    </tr>\n",
       "    <tr>\n",
       "      <td>8000</td>\n",
       "      <td>2.171900</td>\n",
       "    </tr>\n",
       "    <tr>\n",
       "      <td>8050</td>\n",
       "      <td>2.162700</td>\n",
       "    </tr>\n",
       "    <tr>\n",
       "      <td>8100</td>\n",
       "      <td>2.157200</td>\n",
       "    </tr>\n",
       "    <tr>\n",
       "      <td>8150</td>\n",
       "      <td>2.199900</td>\n",
       "    </tr>\n",
       "    <tr>\n",
       "      <td>8200</td>\n",
       "      <td>2.212100</td>\n",
       "    </tr>\n",
       "  </tbody>\n",
       "</table><p>"
      ],
      "text/plain": [
       "<IPython.core.display.HTML object>"
      ]
     },
     "metadata": {},
     "output_type": "display_data"
    },
    {
     "name": "stdout",
     "output_type": "stream",
     "text": [
      "Train OK!\n"
     ]
    }
   ],
   "source": [
    "print(\"Start Training\")\n",
    "trainer.train()\n",
    "print(\"Train OK!\")"
   ]
  },
  {
   "cell_type": "markdown",
   "id": "e3a31f01",
   "metadata": {
    "papermill": {
     "duration": 0.006254,
     "end_time": "2025-05-26T16:13:55.161367",
     "exception": false,
     "start_time": "2025-05-26T16:13:55.155113",
     "status": "completed"
    },
    "tags": []
   },
   "source": [
    "## Save model"
   ]
  },
  {
   "cell_type": "code",
   "execution_count": 19,
   "id": "8d05d5a5",
   "metadata": {
    "execution": {
     "iopub.execute_input": "2025-05-26T16:13:55.206861Z",
     "iopub.status.busy": "2025-05-26T16:13:55.206568Z",
     "iopub.status.idle": "2025-05-26T16:13:58.347302Z",
     "shell.execute_reply": "2025-05-26T16:13:58.346491Z"
    },
    "papermill": {
     "duration": 3.149884,
     "end_time": "2025-05-26T16:13:58.348994",
     "exception": false,
     "start_time": "2025-05-26T16:13:55.199110",
     "status": "completed"
    },
    "tags": []
   },
   "outputs": [],
   "source": [
    "# Save\n",
    "trainer.save_model(\"./gpt2-essay-finetuned\")"
   ]
  },
  {
   "cell_type": "markdown",
   "id": "5d6369ad",
   "metadata": {
    "papermill": {
     "duration": 0.005896,
     "end_time": "2025-05-26T16:13:58.361140",
     "exception": false,
     "start_time": "2025-05-26T16:13:58.355244",
     "status": "completed"
    },
    "tags": []
   },
   "source": [
    "## Call model if have"
   ]
  },
  {
   "cell_type": "code",
   "execution_count": 20,
   "id": "81f1a409",
   "metadata": {
    "execution": {
     "iopub.execute_input": "2025-05-26T16:13:58.374366Z",
     "iopub.status.busy": "2025-05-26T16:13:58.373756Z",
     "iopub.status.idle": "2025-05-26T16:13:58.377084Z",
     "shell.execute_reply": "2025-05-26T16:13:58.376549Z"
    },
    "papermill": {
     "duration": 0.011037,
     "end_time": "2025-05-26T16:13:58.378063",
     "exception": false,
     "start_time": "2025-05-26T16:13:58.367026",
     "status": "completed"
    },
    "tags": []
   },
   "outputs": [],
   "source": [
    "device = 'cuda' # 'cpu'"
   ]
  },
  {
   "cell_type": "code",
   "execution_count": 21,
   "id": "e9869c5b",
   "metadata": {
    "execution": {
     "iopub.execute_input": "2025-05-26T16:13:58.390237Z",
     "iopub.status.busy": "2025-05-26T16:13:58.390014Z",
     "iopub.status.idle": "2025-05-26T16:13:58.393065Z",
     "shell.execute_reply": "2025-05-26T16:13:58.392506Z"
    },
    "papermill": {
     "duration": 0.010272,
     "end_time": "2025-05-26T16:13:58.394064",
     "exception": false,
     "start_time": "2025-05-26T16:13:58.383792",
     "status": "completed"
    },
    "tags": []
   },
   "outputs": [],
   "source": [
    "# # This model i finetune like above in anorther version\n",
    "# from transformers import AutoTokenizer, AutoModelForCausalLM\n",
    "# tokenizer = AutoTokenizer.from_pretrained(\"/kaggle/input/fine-tunedgpt2/gpt2-essay-finetuned\")\n",
    "# model = AutoModelForCausalLM.from_pretrained(\"/kaggle/input/fine-tunedgpt2/gpt2-essay-finetuned\")"
   ]
  },
  {
   "cell_type": "code",
   "execution_count": 22,
   "id": "35d7353d",
   "metadata": {
    "execution": {
     "iopub.execute_input": "2025-05-26T16:13:58.406171Z",
     "iopub.status.busy": "2025-05-26T16:13:58.405955Z",
     "iopub.status.idle": "2025-05-26T16:13:58.414521Z",
     "shell.execute_reply": "2025-05-26T16:13:58.413970Z"
    },
    "papermill": {
     "duration": 0.015699,
     "end_time": "2025-05-26T16:13:58.415543",
     "exception": false,
     "start_time": "2025-05-26T16:13:58.399844",
     "status": "completed"
    },
    "tags": []
   },
   "outputs": [
    {
     "data": {
      "text/plain": [
       "GPT2LMHeadModel(\n",
       "  (transformer): GPT2Model(\n",
       "    (wte): Embedding(50258, 1024)\n",
       "    (wpe): Embedding(1024, 1024)\n",
       "    (drop): Dropout(p=0.1, inplace=False)\n",
       "    (h): ModuleList(\n",
       "      (0-23): 24 x GPT2Block(\n",
       "        (ln_1): LayerNorm((1024,), eps=1e-05, elementwise_affine=True)\n",
       "        (attn): GPT2Attention(\n",
       "          (c_attn): Conv1D(nf=3072, nx=1024)\n",
       "          (c_proj): Conv1D(nf=1024, nx=1024)\n",
       "          (attn_dropout): Dropout(p=0.1, inplace=False)\n",
       "          (resid_dropout): Dropout(p=0.1, inplace=False)\n",
       "        )\n",
       "        (ln_2): LayerNorm((1024,), eps=1e-05, elementwise_affine=True)\n",
       "        (mlp): GPT2MLP(\n",
       "          (c_fc): Conv1D(nf=4096, nx=1024)\n",
       "          (c_proj): Conv1D(nf=1024, nx=4096)\n",
       "          (act): NewGELUActivation()\n",
       "          (dropout): Dropout(p=0.1, inplace=False)\n",
       "        )\n",
       "      )\n",
       "    )\n",
       "    (ln_f): LayerNorm((1024,), eps=1e-05, elementwise_affine=True)\n",
       "  )\n",
       "  (lm_head): Linear(in_features=1024, out_features=50258, bias=False)\n",
       ")"
      ]
     },
     "execution_count": 22,
     "metadata": {},
     "output_type": "execute_result"
    }
   ],
   "source": [
    "model.to(device)"
   ]
  },
  {
   "cell_type": "markdown",
   "id": "dd522e23",
   "metadata": {
    "papermill": {
     "duration": 0.005563,
     "end_time": "2025-05-26T16:13:58.427022",
     "exception": false,
     "start_time": "2025-05-26T16:13:58.421459",
     "status": "completed"
    },
    "tags": []
   },
   "source": [
    "# Generation Function"
   ]
  },
  {
   "cell_type": "code",
   "execution_count": 23,
   "id": "b433f252",
   "metadata": {
    "execution": {
     "iopub.execute_input": "2025-05-26T16:13:58.439428Z",
     "iopub.status.busy": "2025-05-26T16:13:58.439184Z",
     "iopub.status.idle": "2025-05-26T16:13:58.444820Z",
     "shell.execute_reply": "2025-05-26T16:13:58.444102Z"
    },
    "papermill": {
     "duration": 0.01301,
     "end_time": "2025-05-26T16:13:58.445944",
     "exception": false,
     "start_time": "2025-05-26T16:13:58.432934",
     "status": "completed"
    },
    "tags": []
   },
   "outputs": [],
   "source": [
    "def generate_essay(prompt: str, device='cuda', max_length: int = 512):\n",
    "    # Encode the input prompt with the EOS token\n",
    "    input_ids = tokenizer.encode(prompt + tokenizer.eos_token, return_tensors=\"pt\").to(device)\n",
    "\n",
    "    # Generate output\n",
    "    output = model.generate(\n",
    "        input_ids,\n",
    "        max_length=input_ids.shape[-1] + max_length,\n",
    "        pad_token_id=tokenizer.pad_token_id,\n",
    "        eos_token_id=tokenizer.convert_tokens_to_ids(\"<end_of_essay>\"),\n",
    "        do_sample=True,\n",
    "        top_k=50,\n",
    "        top_p=0.95,\n",
    "        temperature=0.8,\n",
    "        num_return_sequences=1\n",
    "    )\n",
    "\n",
    "    # Decode and post-process output\n",
    "    generated_text = tokenizer.decode(output[0], skip_special_tokens=True)\n",
    "\n",
    "    # Optional: Cut at the special end token if still included in output\n",
    "    end_token = \"<end_of_essay>\"\n",
    "    if end_token in generated_text:\n",
    "        generated_text = generated_text.split(end_token)[0]\n",
    "\n",
    "    return generated_text[len(prompt):].strip()\n"
   ]
  },
  {
   "cell_type": "markdown",
   "id": "7ede7098",
   "metadata": {
    "papermill": {
     "duration": 0.005757,
     "end_time": "2025-05-26T16:13:58.458001",
     "exception": false,
     "start_time": "2025-05-26T16:13:58.452244",
     "status": "completed"
    },
    "tags": []
   },
   "source": [
    "# Result"
   ]
  },
  {
   "cell_type": "code",
   "execution_count": 24,
   "id": "23a7e15c",
   "metadata": {
    "execution": {
     "iopub.execute_input": "2025-05-26T16:13:58.471055Z",
     "iopub.status.busy": "2025-05-26T16:13:58.470305Z",
     "iopub.status.idle": "2025-05-26T16:14:15.802953Z",
     "shell.execute_reply": "2025-05-26T16:14:15.802150Z"
    },
    "papermill": {
     "duration": 17.34023,
     "end_time": "2025-05-26T16:14:15.804219",
     "exception": false,
     "start_time": "2025-05-26T16:13:58.463989",
     "status": "completed"
    },
    "tags": []
   },
   "outputs": [
    {
     "name": "stdout",
     "output_type": "stream",
     "text": [
      "Prompt:\n",
      " Write an essay about the importance of artificial intelligence in modern society.\n",
      "\n",
      "Generated essay:\n",
      " Artificial intelligence has been a hot topic these days. The idea of artificial intelligence (AI) has become a topic of interest due to the fact that it is a concept that is both revolutionary and challenging to comprehend. This essay will examine the significance of AI in the modern world and then propose some possible impacts of AI on society.\n",
      "First of all, AI has revolutionized the way we live, work, and communicate. It has made tasks, information, and information flows much faster and more efficient. AI is capable of doing everything from calculations to creating models of the world. It is also helping to solve complex problems that require a lot of imagination and creativity. For example, AI can analyze data, analyze complex data, and even program to make decisions.\n",
      "Another important benefit of AI is the way it makes people’s lives more convenient. It helps us get things done faster and more accurately. It can automate repetitive tasks, process large amounts of data, and process data with accuracy and accuracy. Additionally, AI can understand the needs of different people and tailor its solutions to meet the needs of users. For instance, AI can analyze and understand data, predict customer preferences, and create tailored services that align with the needs of different customers.\n",
      "In summary, AI revolutionizes the way we live, work, and communicate. It helps us solve complex problems faster, and it can automate repetitive tasks, process large amounts of data, and process data with accuracy and accuracy. It can analyze data, predict data, and program to make decisions. In addition, AI can understand the needs of different people and tailor its solutions to meet the needs of users. Therefore, AI is a key component of the modern world.\n"
     ]
    }
   ],
   "source": [
    "prompt = \"Write an essay about the importance of artificial intelligence in modern society.\"\n",
    "continuation = generate_essay(prompt)\n",
    "print(\"Prompt:\\n\", prompt)\n",
    "print(\"\\nGenerated essay:\\n\", continuation)\n"
   ]
  },
  {
   "cell_type": "code",
   "execution_count": 25,
   "id": "1c8f87c9",
   "metadata": {
    "execution": {
     "iopub.execute_input": "2025-05-26T16:14:15.824081Z",
     "iopub.status.busy": "2025-05-26T16:14:15.823833Z",
     "iopub.status.idle": "2025-05-26T16:14:29.141919Z",
     "shell.execute_reply": "2025-05-26T16:14:29.141091Z"
    },
    "papermill": {
     "duration": 13.3287,
     "end_time": "2025-05-26T16:14:29.143074",
     "exception": false,
     "start_time": "2025-05-26T16:14:15.814374",
     "status": "completed"
    },
    "tags": []
   },
   "outputs": [
    {
     "name": "stdout",
     "output_type": "stream",
     "text": [
      "Prompt:\n",
      " The best way to solve world’s environmental problem is to increase the cost of fuel for cars and other vehicles. To what extent do you agree or disagree?\n",
      "\n",
      "Generated essay:\n",
      " It is argued that increasing the cost of petrol is the best solution to environmental issues. I partially agree with this statement.\n",
      "There are several reasons why I agree with this statement. First, by increasing the cost of petrol, we will reduce the number of vehicles and use less fuel. This is because if people use less petrol they will use less fuel and eventually reduce the amount of pollution. Second, if the government increases the cost of petrol it will encourage people to use public transport instead of private vehicles. People will therefore become more careful with their actions and save the environment from damage.\n",
      "However, I also believe that there are better ways to solve environmental issues. One way to solve environmental issues is to increase the usage of renewable energy. This can be done by using solar, wind or hydro power. For example, in some countries such as the USA and the UK, using solar panels on the roof of homes and rooftops is very common. Another way to solve environmental problems is to use biodegradable materials. Biodegradable materials are biodegradable and do not harm the environment. For example, in some developing countries, many people choose to use these materials.\n",
      "In conclusion, there are many ways to solve environmental problems. However, I believe that increasing the price of petrol is the best way to solve these issues.\n"
     ]
    }
   ],
   "source": [
    "prompt = \"The best way to solve world’s environmental problem is to increase the cost of fuel for cars and other vehicles. To what extent do you agree or disagree?\"\n",
    "continuation = generate_essay(prompt)\n",
    "print(\"Prompt:\\n\", prompt)\n",
    "print(\"\\nGenerated essay:\\n\", continuation)\n"
   ]
  },
  {
   "cell_type": "code",
   "execution_count": 26,
   "id": "3fa25a44",
   "metadata": {
    "execution": {
     "iopub.execute_input": "2025-05-26T16:14:29.156327Z",
     "iopub.status.busy": "2025-05-26T16:14:29.156088Z",
     "iopub.status.idle": "2025-05-26T16:14:42.213069Z",
     "shell.execute_reply": "2025-05-26T16:14:42.212200Z"
    },
    "papermill": {
     "duration": 13.064723,
     "end_time": "2025-05-26T16:14:42.214150",
     "exception": false,
     "start_time": "2025-05-26T16:14:29.149427",
     "status": "completed"
    },
    "tags": []
   },
   "outputs": [
    {
     "name": "stdout",
     "output_type": "stream",
     "text": [
      "Prompt:\n",
      " Some people think that all teenagers should be required to do unpaid work in their free time to help the local community. They believe this would benefit both the individual teenager and society as a whole.Do you agree or disagree?\n",
      "\n",
      "Generated essay:\n",
      " In this day and age, it is believed that it is beneficial for teenagers to contribute to their community for free. In my opinion, I totally agree with this idea, as it benefits both the young and the community.\n",
      "To begin with, young people can acquire valuable life experiences and skills through volunteer work. They are likely to learn the importance of hard work and perseverance, which are indispensable for personal growth. For example, volunteering at a local hospital can help individuals understand the importance of hard work and develop a strong sense of responsibility for their well-being. As a result, this practice could inspire young people to put in more effort and dedicate themselves to making a difference in their community.\n",
      "Furthermore, teenagers are also motivated to work if they have the opportunity to make a positive impact. For instance, young people could become leaders or role models in their communities and gain valuable skills for their future careers. This motivation can also motivate the community to develop their own initiatives, such as schools, hospitals, or even charitable organizations, which would be beneficial for both the community and the young.\n",
      "In conclusion, I firmly believe that unpaid work is advantageous for both teenagers and the community. Young people can acquire valuable life experiences and skills through volunteering, and they are likely to gain motivation to work if they have the opportunity to make a positive impact.\n"
     ]
    }
   ],
   "source": [
    "prompt = \"Some people think that all teenagers should be required to do unpaid work in their free time to help the local community. They believe this would benefit both the individual teenager and society as a whole.\\\n",
    "Do you agree or disagree?\"\n",
    "continuation = generate_essay(prompt, device)\n",
    "print(\"Prompt:\\n\", prompt)\n",
    "print(\"\\nGenerated essay:\\n\", continuation)"
   ]
  },
  {
   "cell_type": "code",
   "execution_count": 27,
   "id": "7443ffad",
   "metadata": {
    "execution": {
     "iopub.execute_input": "2025-05-26T16:14:42.227460Z",
     "iopub.status.busy": "2025-05-26T16:14:42.227211Z",
     "iopub.status.idle": "2025-05-26T16:14:42.231338Z",
     "shell.execute_reply": "2025-05-26T16:14:42.230606Z"
    },
    "papermill": {
     "duration": 0.012095,
     "end_time": "2025-05-26T16:14:42.232475",
     "exception": false,
     "start_time": "2025-05-26T16:14:42.220380",
     "status": "completed"
    },
    "tags": []
   },
   "outputs": [
    {
     "name": "stdout",
     "output_type": "stream",
     "text": [
      "10\n"
     ]
    }
   ],
   "source": [
    "print(len(df_test))"
   ]
  },
  {
   "cell_type": "code",
   "execution_count": 28,
   "id": "3f4016f8",
   "metadata": {
    "execution": {
     "iopub.execute_input": "2025-05-26T16:14:42.245289Z",
     "iopub.status.busy": "2025-05-26T16:14:42.245076Z",
     "iopub.status.idle": "2025-05-26T16:17:00.169282Z",
     "shell.execute_reply": "2025-05-26T16:17:00.168526Z"
    },
    "papermill": {
     "duration": 137.931897,
     "end_time": "2025-05-26T16:17:00.170506",
     "exception": false,
     "start_time": "2025-05-26T16:14:42.238609",
     "status": "completed"
    },
    "tags": []
   },
   "outputs": [
    {
     "name": "stdout",
     "output_type": "stream",
     "text": [
      "Prompt:\n",
      " Financial education should be a mandatory component of the school program. To what extent do you agree or disagree with this statement?\n",
      "\n",
      "Generated essay:\n",
      " In today’s modern society, education plays a crucial role in shaping the future of a nation. While some argue that education should be mandatory in schools, I strongly disagree with this view and believe that children should be provided with an opportunity to gain knowledge through their extracurricular activities.\n",
      "First of all, acquiring knowledge through extracurricular activities helps students to cultivate critical thinking and analytical abilities. This can be useful in various fields, including business, science, and technology. For instance, in businesses, the ability to think independently is essential for effective decision-making. Furthermore, in science, students often need to understand the basics of science to have a better understanding of how the world operates.\n",
      "Moreover, extracurricular activities contribute to a child’s mental well-being, strengthening social and emotional skills. Activities like sports, outdoor activities, and drama help children develop teamwork and communication skills. For example, participating in a sports club can teach children to cooperate with others and build relationships with others. Furthermore, group activities, like football, can teach children leadership, teamwork, and leadership qualities, which are essential for success in life.\n",
      "On the other hand, some argue that schools should limit extracurricular activities to a certain number, saying that students need more time to concentrate on academic subjects. This approach may not be practical for all students. For example, students in high school may not be able to participate in sports or outdoor activities as part of their school schedule.\n",
      "In conclusion, while education should be a fundamental part of education, I believe that extracurricular activities are important as they enhance a child’s overall development. Students should be allowed to participate in extracurricular activities as long as they are supported by the school.\n",
      "--------------------------------------------------------------------------------------------\n",
      "\n",
      "\n",
      "Prompt:\n",
      " The best way to reduce the number of traffic accidents is to raise age limit for the younger drivers and to lower age limit for the aged ones. Do you agree?\n",
      "\n",
      "Generated essay:\n",
      " What other solutions could you suggest?Traffic accidents are the leading cause of road traffic issues in many countries. Some people argue that raising the age limit for the younger drivers and lowering the age limit for the older ones can reduce the likelihood of these incidents. In my opinion, this may work as a partial solution, however, other methods can be employed to mitigate the problem effectively.\n",
      "On the one hand, raising the age limit can help to discourage younger drivers from using their vehicles. This can help to reduce the number of accidents as older drivers tend to be more experienced at driving. Furthermore, reducing the age limit can improve road safety by reducing the possibility of accidents. For example, increasing the age limit would prevent older drivers from using their vehicles, which can result in a higher accident rate, especially during peak hours.\n",
      "On the other hand, reducing the age limit can work as a partial solution. Increasing the age limit may not be effective in all cases. Younger drivers may be less capable of driving safely. For instance, in some countries, older drivers are legally allowed to drive their vehicles. However, younger drivers are not legally allowed to drive their vehicles. Therefore, younger drivers may be more likely to be involved in accidents.\n",
      "In conclusion, I believe the benefits of raising the age limit and reducing the age limit to reduce accidents, in the long term, are not as significant as the short-term benefits, such as improving road safety and reducing the number of accidents.\n",
      "--------------------------------------------------------------------------------------------\n",
      "\n",
      "\n",
      "Prompt:\n",
      " Dieting can change a person’s life for the better or ruins one’s health completely. What’s your opinion?\n",
      "\n",
      "Generated essay:\n",
      " These days, many people are following the new way of eating. While I agree that this is a positive development, it also has some drawbacks.\n",
      "On the one hand, eating healthy food can help people to stay fit and to have a healthy lifestyle. For example, when people have a good diet, they do not have to worry about eating fast food because it is convenient for them. In addition, they do not have to worry about the amount of calories they should consume, because it is not that important to them.\n",
      "On the other hand, eating a variety of foods can have detrimental effects on the body. For instance, a person who has a lot of fat in their body may develop an illness like cancer if they eat too much meat and vegetables. Moreover, they can suffer from weight gain, especially in the morning. Therefore, eating a variety of foods can have a negative effect on people’s health.\n",
      "In conclusion, following the new way of eating has a good effect on people's health but it also has some drawbacks.\n",
      "--------------------------------------------------------------------------------------------\n",
      "\n",
      "\n",
      "Prompt:\n",
      " Even though globalization affects the world’s economy in a very positive way, its negative side should not be forgotten. Discuss.\n",
      "\n",
      "Generated essay:\n",
      " In recent years, globalization has greatly enhanced the economic situation in many parts of the world. Despite the advantages, globalization also has some drawbacks. This essay will discuss both the positive and negative aspects of globalization.\n",
      "One of the main advantages of globalization is the expansion of business opportunities. Globalization facilitates the exchange of knowledge, technology, and knowledge among people. For example, in the IT industry, international students often work together to learn from each other. This exposure allows students to gain new skills and knowledge, which can help them get high salaries. Another advantage is the integration of diverse cultural perspectives into globalized societies. Many countries have their own traditions, and globalization allows them to maintain these customs and traditions. For instance, in the music industry, international artists can have a platform to showcase their work and earn money.\n",
      "However, globalization also has some negative aspects. The main problem is the loss of cultural identity. The rapid spread of globalization has reduced the cultural richness of various countries. For example, in the music industry, many traditional music genres are often overshadowed by foreign music genres. Additionally, the dominance of global corporations often leads to global financial inequalities and the dominance of a narrow set of values. The increasing dependence on international companies, such as technology companies and banking systems, can lead to a lack of innovation and reduce the quality of international trade. This can negatively affect the environment and harm the global economy.\n",
      "In conclusion, while globalization has some positive effects, it also has some negative aspects. Globalization can lead to the loss of cultural identity and a decline in innovation. However, through careful consideration and policies, we can create a more equitable and sustainable future for the world.\n",
      "--------------------------------------------------------------------------------------------\n",
      "\n",
      "\n",
      "Prompt:\n",
      " In many countries children are engaged in some kind of paid work. Some people regard this as completely wrong, while others consider it to be a valuable work experience, which is important for learning and taking responsibility. What is your opinion on this?\n",
      "\n",
      "Generated essay:\n",
      " In some countries, children are involved in paid work. Some people do not agree with this because they consider it a wrong thing and taking responsibility, but I agree with the statement because it is important for children to learn how to work as a job and take responsibility for it. \n",
      "First of all, children have to learn how to work as a job and take responsibility for it. When children start working as a job, they can learn how to work as a person and how to work as a person. Moreover, children can take responsibility for their work. For example, if children are working as a waitress and they are taking responsibility for it, they will be more patient and they will take their time. Moreover, children will take responsibility for their work because they will not work as a person when they are working as a waitress. \n",
      "Furthermore, children will learn how to work as a job. Through working as a job, children can learn how to be a person. Furthermore, they can take responsibility for their work. When children work as a waitress, they can take responsibility for their waitress, and they can learn how to be a person. \n",
      "In conclusion, children will learn how to work as a job and take responsibility for it, and they will learn how to be a person when they work as a waitress.\n",
      "--------------------------------------------------------------------------------------------\n",
      "\n",
      "\n",
      "Prompt:\n",
      " You can get up-to-date news from the radio, TV and the Internet. Which kind of media do you think is the best to get the news?\n",
      "\n",
      "Generated essay:\n",
      " Use specific reasons and examples to support your answer.It is considered that there are multiple media to get updated on the news, which are a radio, TV and internet. However, there are also many ways to know about the news such as news on radio, TV, and the Internet. I would like to discuss the reasons for this.\n",
      "The radio and TV are the most preferred platforms because they are more affordable. In other words, nowadays, most people can access to these devices at a low cost. For example, it costs a few dollars to listen to the news on radio, but it can be done on any device at a low price. Moreover, when people use a radio they get to listen to the news on the same station.\n",
      "The internet can be accessed via the internet, which is free and open-source. In fact, it is available in almost all countries and, it can be used for free. The internet is the most important platform for the information. To illustrate, when a person has a smartphone, he can easily access all the news from anywhere with just one click.\n",
      "To sum up, I believe that radio, TV, and the internet are the most preferred media to get news. While they are affordable, they are also accessible to the public. In addition, the information is also available online.\n",
      "--------------------------------------------------------------------------------------------\n",
      "\n",
      "\n",
      "Prompt:\n",
      " Millions of people every year move to English- speaking countries such as Australia, Britain or America, in order to study at school, college or university. Why do so many people want to study in English? Why is English such an important international language?\n",
      "\n",
      "Generated essay:\n",
      " Give reasons for your answer and include any relevant examples from your own knowledge or experience.Nowadays, many people in the English speaking countries are moving to other nations in order to study in the universities and colleges.   This essay discusses about the reasons for the trend of English language. \n",
      "To begin with, the majority of people who are moving to other countries, want to have a better education and better life quality. In addition, English is an international language and many people want to learn it. Furthermore, the English language is a significant language that is used in many different countries, so it is important for the people to learn English. For instance, a lot of doctors use English in their work.\n",
      "Furthermore, English is the most important language in the world and it is used in many aspects of life. Moreover, the English language is an international language. For example, in the UK, people use English to make their transactions and transactions.\n",
      "In conclusion, there are many reasons why people want to study English, and English is an international language that is used in many different countries.\n",
      "--------------------------------------------------------------------------------------------\n",
      "\n",
      "\n",
      "Prompt:\n",
      " The best way to reduce the number of traffic accidents is to raise the age limit for younger drivers and to lower the age limit for aged drivers. Do you agree ?\n",
      "\n",
      "Generated essay:\n",
      " In recent times, the question of who is the best way to reduce traffic accidents has become a contentious issue. While some individuals argue that raising the age limit for younger drivers and reducing the age limit for aged drivers is the best way to tackle this issue, I firmly disagree with this stance.\n",
      "To begin with, proponents of age limits argue that raising the age limit for younger drivers and lowering the age limit for aged drivers can help decrease the number of accidents caused by young individuals. This approach can help reduce the number of traffic accidents in busy urban areas. As a result, younger individuals might be more cautious and less distracted, potentially decreasing their chances of being involved in a traffic collision. For example, the New York Times reported that cities with a higher minimum age limit for older drivers have seen an average of 30% reduction in traffic accidents.\n",
      "However, I firmly believe that increasing the age limit for younger drivers and reducing the age limit for aged drivers is not the most effective way to decrease traffic accidents. Raising the age limit for younger drivers can lead to increased numbers of traffic accidents. Younger drivers often lack awareness of traffic rules and may not understand how to navigate traffic safely. This could result in them causing a traffic accident if they are not careful. For instance, statistics published by the Australian Bureau of Statistics indicate that an increasing number of elderly drivers causes a high level of traffic accidents.\n",
      "In conclusion, while it is true that raising the age limit for younger drivers and reducing the age limit for aged drivers may have some benefits, I believe that it is not the most effective way to address this problem. Instead, I believe that promoting safe driving practices and enforcing stricter traffic laws is more effective in reducing traffic accidents.\n",
      "--------------------------------------------------------------------------------------------\n",
      "\n",
      "\n",
      "Prompt:\n",
      " Financial education should be a mandatory component of the school program. To what extent do you agree or disagree with this statement?\n",
      "\n",
      "Generated essay:\n",
      " Education is a fundamental need in our lives. I believe that education should be a mandatory subject in schools.\n",
      "Firstly, I think that education is the foundation of an effective society. A society without education is a society without hope. Without knowledge, individuals are helpless and without hope, they are helpless and without life. Therefore, education is necessary for learning and preparing people for life. If individuals do not have knowledge, they are unable to survive. If they lack education, they cannot survive. Education, in our society, is the most effective way to educate people.\n",
      "Secondly, education provides people with the skills and knowledge they need to succeed in life. Without education, individuals are helpless. Without education, people are helpless. Education, in our society, provides people with the skills and knowledge they need to succeed in life. Without education, individuals are helpless. Without education, people are unable to succeed in life. Without education, people become helpless. Therefore, education is the most effective way to educate people.\n",
      "In conclusion, education should be a mandatory subject in schools. In my opinion, education is the most effective way to educate people.\n",
      "--------------------------------------------------------------------------------------------\n",
      "\n",
      "\n",
      "Prompt:\n",
      " Even though globalization affects the world’s economy in a very positive way, its negative side should not be forgotten. Discuss.\n",
      "\n",
      "Generated essay:\n",
      " In the globalized world, the impact of globalization has been more and more pronounced. However, this shift also brings about some drawbacks that should be carefully considered.\n",
      "Firstly, globalization does have certain advantages. It allows individuals to interact with foreign countries with a more direct and immediate perception of the world. For example, people in the developing world are often unfamiliar with other cultures and norms in order to travel to Western countries, which can have a positive impact on their lives. Secondly, globalization creates opportunities for individuals to enhance their knowledge of different cultures. For example, students studying in the United States can broaden their horizons about various cultures, which would not be possible in their home countries. Finally, globalization helps to expand the reach of knowledge and technology in a country.\n",
      "However, these advantages cannot overcome the disadvantages of globalization. One of the main downsides of this global trend is that it may lead to the loss of cultural heritage. As a result, the disappearance of a country’s history may result in its loss as well. Another negative impact of globalization is that it may affect the economic balance. This is mainly due to the fact that the increase in the number of international companies leads to the competition between them. Consequently, there could be a decline in the GDP of the country.\n",
      "In conclusion, it seems to me that globalization has both positive and negative effects on the world. While it may be advantageous for certain individuals, I believe that it may have some negative effects.\n",
      "--------------------------------------------------------------------------------------------\n",
      "\n",
      "\n"
     ]
    }
   ],
   "source": [
    "for idx, row in df_test.iterrows():\n",
    "    prompt = row[\"prompt\"];\n",
    "    continuation = generate_essay(prompt, device)\n",
    "    print(\"Prompt:\\n\", prompt)\n",
    "    print(\"\\nGenerated essay:\\n\", continuation)\n",
    "    print(\"--------------------------------------------------------------------------------------------\\n\")\n",
    "    print()"
   ]
  }
 ],
 "metadata": {
  "kaggle": {
   "accelerator": "gpu",
   "dataSources": [
    {
     "datasetId": 3538713,
     "sourceId": 6167517,
     "sourceType": "datasetVersion"
    },
    {
     "datasetId": 7473664,
     "sourceId": 11890563,
     "sourceType": "datasetVersion"
    },
    {
     "datasetId": 7492770,
     "sourceId": 11921098,
     "sourceType": "datasetVersion"
    },
    {
     "datasetId": 7468824,
     "sourceId": 11955603,
     "sourceType": "datasetVersion"
    }
   ],
   "dockerImageVersionId": 31040,
   "isGpuEnabled": true,
   "isInternetEnabled": true,
   "language": "python",
   "sourceType": "notebook"
  },
  "kernelspec": {
   "display_name": "Python 3",
   "language": "python",
   "name": "python3"
  },
  "language_info": {
   "codemirror_mode": {
    "name": "ipython",
    "version": 3
   },
   "file_extension": ".py",
   "mimetype": "text/x-python",
   "name": "python",
   "nbconvert_exporter": "python",
   "pygments_lexer": "ipython3",
   "version": "3.11.11"
  },
  "papermill": {
   "default_parameters": {},
   "duration": 25934.82737,
   "end_time": "2025-05-26T16:17:03.680613",
   "environment_variables": {},
   "exception": null,
   "input_path": "__notebook__.ipynb",
   "output_path": "__notebook__.ipynb",
   "parameters": {},
   "start_time": "2025-05-26T09:04:48.853243",
   "version": "2.6.0"
  }
 },
 "nbformat": 4,
 "nbformat_minor": 5
}
