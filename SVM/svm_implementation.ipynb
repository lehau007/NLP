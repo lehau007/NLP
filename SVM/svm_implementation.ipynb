{
 "cells": [
  {
   "cell_type": "markdown",
   "metadata": {},
   "source": [
    "# Here is my implementation for 2-class classiifiation problem"
   ]
  },
  {
   "cell_type": "code",
   "execution_count": 84,
   "metadata": {},
   "outputs": [],
   "source": [
    "import pandas as pd\n",
    "import numpy as np\n",
    "import sklearn\n",
    "import nltk\n",
    "from nltk.tokenize import word_tokenize\n",
    "from nltk.corpus import stopwords\n",
    "from nltk.stem import PorterStemmer\n",
    "\n",
    "from sklearn.model_selection import train_test_split\n",
    "from sklearn.feature_extraction.text import TfidfVectorizer\n",
    "from sklearn.svm import SVC\n",
    "from sklearn.metrics import accuracy_score, classification_report"
   ]
  },
  {
   "cell_type": "markdown",
   "metadata": {},
   "source": [
    "### Test with another data"
   ]
  },
  {
   "cell_type": "code",
   "execution_count": 85,
   "metadata": {},
   "outputs": [],
   "source": [
    "trainData = pd.read_csv(\"https://raw.githubusercontent.com/Vasistareddy/sentiment_analysis/master/data/train.csv\")\n",
    "# test Data\n",
    "testData = pd.read_csv(\"https://raw.githubusercontent.com/Vasistareddy/sentiment_analysis/master/data/test.csv\")"
   ]
  },
  {
   "cell_type": "code",
   "execution_count": 86,
   "metadata": {},
   "outputs": [
    {
     "data": {
      "text/html": [
       "<div>\n",
       "<style scoped>\n",
       "    .dataframe tbody tr th:only-of-type {\n",
       "        vertical-align: middle;\n",
       "    }\n",
       "\n",
       "    .dataframe tbody tr th {\n",
       "        vertical-align: top;\n",
       "    }\n",
       "\n",
       "    .dataframe thead th {\n",
       "        text-align: right;\n",
       "    }\n",
       "</style>\n",
       "<table border=\"1\" class=\"dataframe\">\n",
       "  <thead>\n",
       "    <tr style=\"text-align: right;\">\n",
       "      <th></th>\n",
       "      <th>Content</th>\n",
       "      <th>Label</th>\n",
       "    </tr>\n",
       "  </thead>\n",
       "  <tbody>\n",
       "    <tr>\n",
       "      <th>0</th>\n",
       "      <td>every once in a while you see a film that is s...</td>\n",
       "      <td>pos</td>\n",
       "    </tr>\n",
       "    <tr>\n",
       "      <th>1</th>\n",
       "      <td>the love for family is one of the strongest dr...</td>\n",
       "      <td>pos</td>\n",
       "    </tr>\n",
       "    <tr>\n",
       "      <th>2</th>\n",
       "      <td>after the terminally bleak reservoir dogs and ...</td>\n",
       "      <td>pos</td>\n",
       "    </tr>\n",
       "    <tr>\n",
       "      <th>3</th>\n",
       "      <td>( warning to those who have not seen seven : ...</td>\n",
       "      <td>pos</td>\n",
       "    </tr>\n",
       "    <tr>\n",
       "      <th>4</th>\n",
       "      <td>having not seen , \" who framed roger rabbit \" ...</td>\n",
       "      <td>pos</td>\n",
       "    </tr>\n",
       "  </tbody>\n",
       "</table>\n",
       "</div>"
      ],
      "text/plain": [
       "                                             Content Label\n",
       "0  every once in a while you see a film that is s...   pos\n",
       "1  the love for family is one of the strongest dr...   pos\n",
       "2  after the terminally bleak reservoir dogs and ...   pos\n",
       "3   ( warning to those who have not seen seven : ...   pos\n",
       "4  having not seen , \" who framed roger rabbit \" ...   pos"
      ]
     },
     "execution_count": 86,
     "metadata": {},
     "output_type": "execute_result"
    }
   ],
   "source": [
    "trainData.head()"
   ]
  },
  {
   "cell_type": "code",
   "execution_count": 87,
   "metadata": {},
   "outputs": [],
   "source": [
    "# Preprocessing\n",
    "trainData['Content'] = [sen.lower() for sen in trainData['Content']]\n",
    "\n",
    "mp = {'pos': 1, 'neg': -1}\n",
    "trainData['Label'] = trainData['Label'].map(mp)\n",
    "\n",
    "testData['Content'] = [sen.lower() for sen in testData['Content']]\n",
    "\n",
    "mp = {'pos': 1, 'neg': -1}\n",
    "testData['Label'] = testData['Label'].map(mp)"
   ]
  },
  {
   "cell_type": "code",
   "execution_count": 88,
   "metadata": {},
   "outputs": [],
   "source": [
    "trainData.dropna(inplace=True) #removing all empty spaces\n",
    "testData.dropna(inplace=True) #removing all empty spaces"
   ]
  },
  {
   "cell_type": "code",
   "execution_count": 89,
   "metadata": {},
   "outputs": [
    {
     "name": "stdout",
     "output_type": "stream",
     "text": [
      "['every', 'once', 'in', 'a', 'while', 'you', 'see', 'a', 'film', 'that', 'is', 'so', 'effective', 'in', 'delivering', 'the', 'goods', 'that', 'it', 'is', 'easy', 'to', 'forget', ',', 'and', 'forgive', ',', 'its', 'glaring', 'imperfections', '.', 'such', 'is', 'the', 'case', 'with', '?', 'good', 'will', 'hunting', '?', ',', 'a', 'subtle', 'character', 'study', 'about', 'a', 'socially', 'inept', 'mathematics', 'genius', 'who', 'struggles', 'to', 'find', 'his', 'path', 'in', 'life', '.', 'despite', 'some', 'serious', 'character', 'problems', ',', 'this', 'is', 'still', 'a', 'very', 'good', 'film', '.', 'you', 'probably', 'know', 'about', 'the', 'plot', 'so', 'i', '?', 'll', 'make', 'it', 'quick', '.', 'will', 'hunting', '(', 'damon', ')', 'is', 'a', 'janitor', 'at', 'm', '.', 'i', '.', 't', '.', ',', 'he', '?', 's', 'really', 'smarter', 'than', 'einstein', 'but', 'nobody', 'knows', 'it', '.', 'he', 'likes', 'to', 'go', 'out', 'with', 'his', 'friend', 'chuckie', '(', 'affleck', ')', 'and', 'their', 'other', 'working-class', 'buddies', 'and', 'drink', 'beer', '.', 'he', '?', 's', 'good-looking', ',', 'charismatic', ',', 'and', 'witty', 'but', 'has', 'a', 'terrible', 'time', 'with', 'authority', 'and', 'stiff', 'college', 'folk', '.', 'after', 'getting', 'into', 'a', 'tiff', 'with', 'the', 'law', ',', 'a', 'distinguished', 'professor', '(', 'skarsg', '?', 'rd', ')', 'discovers', 'will', '?', 's', 'genius', 'and', 'offers', 'him', 'a', 'chance', 'to', 'clean', 'up', 'his', 'record', 'and', 'avoid', 'jail', 'time', ',', 'at', 'a', 'price', ':', 'he', 'must', 'attend', 'weekly', 'sessions', 'with', 'a', 'therapist', 'and', 'work', 'on', 'various', 'mathematical', 'problems', '(', 'that', 'have', 'stumped', 'the', 'academic', 'elite', ')', 'with', 'the', 'professor', '.', 'after', 'outsmarting', 'and', 'scaring', 'the', 'hell', 'out', 'of', 'a', 'couple', 'of', 'different', 'psychologists', 'he', 'meets', 'his', 'match', 'when', 'hooked', 'up', 'with', 'a', 'once-promising', 'therapist', 'named', 'sean', 'maguire', '(', 'williams', ')', 'who', 'has', 'his', 'own', 'problems', '.', 'in', 'the', 'meantime', 'will', 'meets', 'a', 'british', 'medical', 'school', 'student', '(', 'driver', ')', 'and', 'they', 'begin', 'to', 'fall', 'in', 'love', '.', 'the', 'story', 'starts', 'out', 'well', 'enough', 'and', 'is', 'a', 'pretty', 'original', 'basis', 'for', 'a', 'film', '.', 'even', 'though', 'we', '?', 've', 'seen', 'movies', 'about', 'misunderstood', ',', 'erratic', 'prodigies', 'before', '(', '?', 'shine', '?', 'ring', 'a', 'bell', '?', ')', ',', 'the', 'script', 'here', 'creates', 'a', 'complex', 'narrative', 'that', 'doesn', '?', 't', 'just', 'focus', 'solely', 'on', 'one', 'character', '.', 'alas', 'though', ',', 'this', 'is', 'not', 'a', 'perfect', 'film', ',', 'as', 'much', 'as', 'you', 'feel', 'like', 'it', 'could', '?', 've', 'been', 'while', 'watching', 'it', '.', 'the', 'one', 'real', 'problem', 'i', 'had', 'with', 'it', 'is', 'the', 'unrealistic', 'nature', 'of', 'the', 'main', 'character', '.', 'is', 'it', 'possible', 'for', 'a', 'lowly', 'janitor', 'to', 'be', 'this', 'intelligent', '?', 'of', 'course', '.', 'is', 'it', 'possible', 'for', 'him', 'to', 'be', 'estranged', 'from', 'any', 'deep', ',', 'human', 'relationships', '?', 'usually', ',', 'yes', '.', 'but', ',', 'is', 'it', 'possible', 'for', 'him', 'to', 'also', 'be', 'so', 'handsome', ',', 'funny', ',', 'quick', 'with', 'the', 'tongue', ',', 'and', 'city-street', 'tough', '?', 'not', 'very', 'likely', '.', 'come', 'on', ',', 'usually', 'these', 'guys', 'are', 'total', 'nerds', 'who', 'can', '?', 't', 'even', 'buy', 'their', 'own', 'shirts', ',', 'much', 'less', 'talk', 'down', 'a', 'harvard', 'student', 'in', 'a', 'hip', 'pub', 'while', 'picking', 'up', 'phone', 'numbers', 'from', 'pretty', 'med', '.', '-school', 'girls', '.', 'will', 'is', 'just', 'a', 'little', 'too', 'perfect', ',', 'and', 'in', 'order', 'to', 'accept', 'the', 'character', 'your', 'disbelief', 'suspension', 'needs', 'to', 'be', 'in', 'excellent', 'working', 'condition', '.', 'the', 'heavy-handed', ',', 'anti-war', 'statement', 'made', 'by', 'will', 'at', 'a', 'government', 'job', 'interview', 'late', 'in', 'the', 'film', 'is', 'also', 'boorish', ',', 'overlong', ',', 'pompous', ',', 'and', 'completely', 'unnecessary', '.', 'all', 'this', 'sounds', 'pretty', 'bad', ',', 'but', 'the', 'film', 'somehow', 'makes', 'up', 'for', 'it', 'in', 'other', 'ways', '.', 'damon', '?', 's', 'acting', 'overshadows', 'the', 'fact', 'that', 'the', 'character', 'is', 'slightly', 'unbelievable', ',', 'his', 'performance', 'is', 'truly', 'extraordinary', '.', 'which', 'leads', 'me', 'to', 'the', 'really', 'good', 'part', 'of', 'the', 'review', '.', 'the', 'strength', 'of', 'this', 'movie', 'can', 'be', 'summed', 'up', 'in', 'one', 'single', 'word', ':', 'acting', '.', 'i', 'can', '?', 't', 'recall', 'seeing', 'a', 'film', 'recently', 'that', 'was', 'so', 'well-acted', 'from', 'top', 'to', 'bottom', '.', 'from', 'minnie', 'driver', '?', 's', 'frustrated', 'lover', 'to', 'ben', 'affleck', '?', 's', 'laid-back', 'best', 'friend', ',', 'and', 'all', 'the', 'small', 'roles', 'in', 'between', ',', 'the', 'performances', 'are', 'magnificent', '.', 'robin', 'williams', '?', 'skill', 'is', 'a', 'given', 'as', 'a', 'bereaved', 'psychologist', 'who', 'could', '?', 've', 'had', 'a', 'legendary', 'career', 'but', 'was', 'knocked', 'off', 'the', 'path', 'somewhere', 'down', 'the', 'line', '.', 'the', 'real', 'gem', 'though', 'is', 'stellan', 'skarsg', '?', 'rd', '?', 's', 'turn', 'as', 'professor', 'lambeau', ',', 'an', 'award-winning', 'mathematician', 'who', 'feels', 'reduced', 'in', 'comparison', 'to', 'a', 'younger', ',', 'smarter', 'will', 'hunting', '.', 'the', 'scenes', 'between', 'williams', 'and', 'skarsg', '?', 'rd', ',', 'as', 'two', 'old', 'college', 'pals', 'who', '?', 've', 'been', 'brought', 'back', 'together', 'by', 'this', 'enigmatic', 'kid', ',', 'display', 'some', 'of', 'the', 'best', 'acting', 'i', '?', 've', 'ever', 'seen', '.', 'when', 'i', 'say', 'delivering', 'the', 'goods', ',', 'this', 'is', 'what', 'i', '?', 'm', 'talking', 'about', '.', 'watching', 'these', 'two', 'work', 'is', 'what', 'going', 'to', 'see', 'movies', 'is', 'all', 'about', '.', 'gus', 'van', 'sant', '?', 's', '(', 'to', 'die', 'for', ',', 'drugstore', 'cowboy', ')', 'cold', ',', 'urban', 'direction', 'is', 'right', 'on', ',', 'as', 'well', 'as', 'danny', 'elfman', '?', 's', 'sauntering', 'musical', 'score', '.', 'i', 'highly', 'recommend', '?', 'good', 'will', 'hunting', '?', '.', 'despite', 'its', 'faults', ',', 'it', 'is', 'still', 'an', 'intriguing', 'and', 'fascinating', 'film', 'and', 'you', 'are', 'not', 'likely', 'to', 'see', 'a', 'better', 'acted', 'one', 'this', 'year', '.']\n"
     ]
    }
   ],
   "source": [
    "sentences = [sen.split() for sen in trainData[\"Content\"]]\n",
    "print(sentences[0]) # like word_tokenize\n",
    "\n",
    "sen2s = [sen.split() for sen in testData['Content']]"
   ]
  },
  {
   "cell_type": "code",
   "execution_count": 90,
   "metadata": {},
   "outputs": [
    {
     "name": "stdout",
     "output_type": "stream",
     "text": [
      "['every', 'once', 'in', 'a', 'while', 'you', 'see', 'a', 'film', 'that', 'is', 'so', 'effective', 'in', 'delivering', 'the', 'goods', 'that', 'it', 'is', 'easy', 'to', 'forget', 'and', 'forgive', 'its', 'glaring', 'imperfections', 'such', 'is', 'the', 'case', 'with', 'good', 'will', 'hunting', 'a', 'subtle', 'character', 'study', 'about', 'a', 'socially', 'inept', 'mathematics', 'genius', 'who', 'struggles', 'to', 'find', 'his', 'path', 'in', 'life', 'despite', 'some', 'serious', 'character', 'problems', 'this', 'is', 'still', 'a', 'very', 'good', 'film', 'you', 'probably', 'know', 'about', 'the', 'plot', 'so', 'i', 'll', 'make', 'it', 'quick', 'will', 'hunting', 'damon', 'is', 'a', 'janitor', 'at', 'm', 'i', 't', 'he', 's', 'really', 'smarter', 'than', 'einstein', 'but', 'nobody', 'knows', 'it', 'he', 'likes', 'to', 'go', 'out', 'with', 'his', 'friend', 'chuckie', 'affleck', 'and', 'their', 'other', 'buddies', 'and', 'drink', 'beer', 'he', 's', 'charismatic', 'and', 'witty', 'but', 'has', 'a', 'terrible', 'time', 'with', 'authority', 'and', 'stiff', 'college', 'folk', 'after', 'getting', 'into', 'a', 'tiff', 'with', 'the', 'law', 'a', 'distinguished', 'professor', 'skarsg', 'rd', 'discovers', 'will', 's', 'genius', 'and', 'offers', 'him', 'a', 'chance', 'to', 'clean', 'up', 'his', 'record', 'and', 'avoid', 'jail', 'time', 'at', 'a', 'price', 'he', 'must', 'attend', 'weekly', 'sessions', 'with', 'a', 'therapist', 'and', 'work', 'on', 'various', 'mathematical', 'problems', 'that', 'have', 'stumped', 'the', 'academic', 'elite', 'with', 'the', 'professor', 'after', 'outsmarting', 'and', 'scaring', 'the', 'hell', 'out', 'of', 'a', 'couple', 'of', 'different', 'psychologists', 'he', 'meets', 'his', 'match', 'when', 'hooked', 'up', 'with', 'a', 'therapist', 'named', 'sean', 'maguire', 'williams', 'who', 'has', 'his', 'own', 'problems', 'in', 'the', 'meantime', 'will', 'meets', 'a', 'british', 'medical', 'school', 'student', 'driver', 'and', 'they', 'begin', 'to', 'fall', 'in', 'love', 'the', 'story', 'starts', 'out', 'well', 'enough', 'and', 'is', 'a', 'pretty', 'original', 'basis', 'for', 'a', 'film', 'even', 'though', 'we', 've', 'seen', 'movies', 'about', 'misunderstood', 'erratic', 'prodigies', 'before', 'shine', 'ring', 'a', 'bell', 'the', 'script', 'here', 'creates', 'a', 'complex', 'narrative', 'that', 'doesn', 't', 'just', 'focus', 'solely', 'on', 'one', 'character', 'alas', 'though', 'this', 'is', 'not', 'a', 'perfect', 'film', 'as', 'much', 'as', 'you', 'feel', 'like', 'it', 'could', 've', 'been', 'while', 'watching', 'it', 'the', 'one', 'real', 'problem', 'i', 'had', 'with', 'it', 'is', 'the', 'unrealistic', 'nature', 'of', 'the', 'main', 'character', 'is', 'it', 'possible', 'for', 'a', 'lowly', 'janitor', 'to', 'be', 'this', 'intelligent', 'of', 'course', 'is', 'it', 'possible', 'for', 'him', 'to', 'be', 'estranged', 'from', 'any', 'deep', 'human', 'relationships', 'usually', 'yes', 'but', 'is', 'it', 'possible', 'for', 'him', 'to', 'also', 'be', 'so', 'handsome', 'funny', 'quick', 'with', 'the', 'tongue', 'and', 'tough', 'not', 'very', 'likely', 'come', 'on', 'usually', 'these', 'guys', 'are', 'total', 'nerds', 'who', 'can', 't', 'even', 'buy', 'their', 'own', 'shirts', 'much', 'less', 'talk', 'down', 'a', 'harvard', 'student', 'in', 'a', 'hip', 'pub', 'while', 'picking', 'up', 'phone', 'numbers', 'from', 'pretty', 'med', 'girls', 'will', 'is', 'just', 'a', 'little', 'too', 'perfect', 'and', 'in', 'order', 'to', 'accept', 'the', 'character', 'your', 'disbelief', 'suspension', 'needs', 'to', 'be', 'in', 'excellent', 'working', 'condition', 'the', 'statement', 'made', 'by', 'will', 'at', 'a', 'government', 'job', 'interview', 'late', 'in', 'the', 'film', 'is', 'also', 'boorish', 'overlong', 'pompous', 'and', 'completely', 'unnecessary', 'all', 'this', 'sounds', 'pretty', 'bad', 'but', 'the', 'film', 'somehow', 'makes', 'up', 'for', 'it', 'in', 'other', 'ways', 'damon', 's', 'acting', 'overshadows', 'the', 'fact', 'that', 'the', 'character', 'is', 'slightly', 'unbelievable', 'his', 'performance', 'is', 'truly', 'extraordinary', 'which', 'leads', 'me', 'to', 'the', 'really', 'good', 'part', 'of', 'the', 'review', 'the', 'strength', 'of', 'this', 'movie', 'can', 'be', 'summed', 'up', 'in', 'one', 'single', 'word', 'acting', 'i', 'can', 't', 'recall', 'seeing', 'a', 'film', 'recently', 'that', 'was', 'so', 'from', 'top', 'to', 'bottom', 'from', 'minnie', 'driver', 's', 'frustrated', 'lover', 'to', 'ben', 'affleck', 's', 'best', 'friend', 'and', 'all', 'the', 'small', 'roles', 'in', 'between', 'the', 'performances', 'are', 'magnificent', 'robin', 'williams', 'skill', 'is', 'a', 'given', 'as', 'a', 'bereaved', 'psychologist', 'who', 'could', 've', 'had', 'a', 'legendary', 'career', 'but', 'was', 'knocked', 'off', 'the', 'path', 'somewhere', 'down', 'the', 'line', 'the', 'real', 'gem', 'though', 'is', 'stellan', 'skarsg', 'rd', 's', 'turn', 'as', 'professor', 'lambeau', 'an', 'mathematician', 'who', 'feels', 'reduced', 'in', 'comparison', 'to', 'a', 'younger', 'smarter', 'will', 'hunting', 'the', 'scenes', 'between', 'williams', 'and', 'skarsg', 'rd', 'as', 'two', 'old', 'college', 'pals', 'who', 've', 'been', 'brought', 'back', 'together', 'by', 'this', 'enigmatic', 'kid', 'display', 'some', 'of', 'the', 'best', 'acting', 'i', 've', 'ever', 'seen', 'when', 'i', 'say', 'delivering', 'the', 'goods', 'this', 'is', 'what', 'i', 'm', 'talking', 'about', 'watching', 'these', 'two', 'work', 'is', 'what', 'going', 'to', 'see', 'movies', 'is', 'all', 'about', 'gus', 'van', 'sant', 's', 'to', 'die', 'for', 'drugstore', 'cowboy', 'cold', 'urban', 'direction', 'is', 'right', 'on', 'as', 'well', 'as', 'danny', 'elfman', 's', 'sauntering', 'musical', 'score', 'i', 'highly', 'recommend', 'good', 'will', 'hunting', 'despite', 'its', 'faults', 'it', 'is', 'still', 'an', 'intriguing', 'and', 'fascinating', 'film', 'and', 'you', 'are', 'not', 'likely', 'to', 'see', 'a', 'better', 'acted', 'one', 'this', 'year']\n",
      "['hedwig', 'john', 'cameron', 'mitchell', 'was', 'born', 'a', 'boy', 'named', 'hansel', 'in', 'east', 'berlin', 'as', 'a', 'teen', 'seeking', 'his', 'other', 'half', 'he', 'reluctantly', 'agrees', 'to', 'a', 'sex', 'change', 'operation', 'in', 'order', 'to', 'marry', 'american', 'g', 'i', 'luther', 'maurice', 'dean', 'wint', 'the', 'operation', 'performed', 'by', 'a', 'hack', 'surgeon', 'is', 'botched', 'and', 'the', 'angry', 'inch', 'is', 'all', 'left', 'now', 'a', 'she', 'hedwig', 'comes', 'to', 'america', 'is', 'abandoned', 'by', 'luther', 'forms', 'a', 'rock', 'band', 'and', 'falls', 'for', 'her', 'old', 'g', 'tommy', 'only', 'to', 'be', 'rejected', 'by', 'him', 'later', 'too', 'she', 'and', 'her', 'band', 'the', 'angry', 'inch', 'shadows', 'the', 'tommy', 'gnosis', 'across', 'the', 'us', 'for', 'revenge', 'but', 'hedwig', 'is', 'really', 'in', 'search', 'of', 'her', 'lost', 'other', 'half', 'in', 'hedwig', 'and', 'the', 'angry', 'inch', 'first', 'time', 'helmer', 'john', 'cameron', 'mitchell', 'along', 'with', 'stephen', 'trask', 'created', 'and', 'starred', 'in', 'their', 'acclaimed', 'production', 'that', 'has', 'become', 'the', 'movie', 'and', 'quite', 'a', 'movie', 'it', 'is', 'in', 'its', 'eclectic', 'variety', 'of', 'songs', 'outrageous', 'costumes', 'sets', 'and', 'makeup', 'and', 'especially', 'a', 'riveting', 'performance', 'by', 'mitchell', 'as', 'the', 'title', 'character', 'mitchell', 'and', 'trask', 'have', 'reinvented', 'the', 'movie', 'musical', 'and', 'couple', 'it', 'with', 'the', 'underlying', 'story', 'of', 'just', 'whom', 'hedwig', 'is', 'and', 'what', 'she', 'is', 'looking', 'for', 'i', 'am', 'by', 'far', 'not', 'a', 'big', 'fan', 'of', 'musicals', 'sure', 'there', 'are', 'exceptions', 'like', 'bob', 'all', 'that', 'jazz', 'and', 'cabaret', 'but', 'for', 'the', 'most', 'part', 'they', 'are', 'just', 'not', 'my', 'cup', 'of', 'tea', 'hedwig', 'and', 'the', 'angry', 'inch', 'is', 'an', 'exception', 'though', 'with', 'its', 'combination', 'of', 'humor', 'wit', 'and', 'a', 'collection', 'of', 'tunes', 'that', 'covers', 'musical', 'styles', 'ranging', 'from', 'the', 'rocky', 'horror', 'picture', 'show', 'and', 'meatloaf', 'to', 'david', 'bowie', 'to', 'the', 'sex', 'pistols', 'the', 'original', 'songs', 'by', 'stephen', 'trask', 'also', 'appearing', 'as', 'one', 'of', 'the', 'members', 'of', 'the', 'band', 'the', 'angry', 'inch', 'are', 'full', 'of', 'energy', 'and', 'variety', 'and', 'even', 'though', 'not', 'my', 'kind', 'of', 'music', 'i', 'found', 'every', 'one', 'entertaining', 'and', 'fun', 'the', 'audience', 'i', 'saw', 'hedwig', 'with', 'thought', 'so', 'too', 'the', 'main', 'attraction', 'to', 'this', 'show', 'is', 'the', 'presence', 'of', 'its', 'star', 'john', 'cameron', 'mitchell', 'gives', 'a', 'solid', 'sometimes', 'fun', 'sometimes', 'angry', 'performance', 'as', 'a', 'person', 'searching', 'for', 'and', 'love', 'as', 'a', 'young', 'boy', 'growing', 'up', 'in', 'east', 'berlin', 'hansel', 'is', 'abused', 'by', 'his', 'g', 'i', 'father', 'and', 'raised', 'by', 'his', 'german', 'mother', 'in', 'a', 'tiny', 'flat', 'so', 'small', 'that', 'mother', 'would', 'make', 'me', 'play', 'in', 'the', 'oven', 'where', 'he', 'listened', 'to', 'pop', 'music', 'on', 'armed', 'forces', 'radio', 'later', 'as', 'a', 'young', 'man', 'he', 'meets', 'luther', 'another', 'g', 'i', 'and', 'is', 'swept', 'off', 'of', 'his', 'feet', 'the', 'ensuing', 'angry', 'inch', 'incident', 'comes', 'soon', 'after', 'flash', 'forward', 'to', 'a', 'trailer', 'park', 'in', 'junction', 'city', 'kansas', 'and', 'luther', 'is', 'leaving', 'hedwig', 'for', 'another', 'boy', 'frustrated', 'and', 'broke', 'she', 'takes', 'on', 'and', 'the', 'odd', 'job', 'to', 'make', 'ends', 'meet', 'she', 'also', 'forms', 'a', 'band', 'with', 'four', 'korean', 'housewives', 'and', 'the', 'musical', 'talent', 'of', 'hedwig', 'is', 'born', 'she', 'meets', 'falls', 'for', 'and', 'loses', 'young', 'tommy', 'who', 'steals', 'her', 'songs', 'and', 'goes', 'off', 'to', 'become', 'a', 'rock', 'sensation', 'jealous', 'and', 'angry', 'hedwig', 'and', 'her', 'new', 'band', 'begins', 'a', 'campaign', 'to', 'shadow', 'tours', 'and', 'with', 'the', 'help', 'of', 'her', 'manager', 'phyllis', 'stein', 'andrea', 'martin', 'is', 'trying', 'get', 'a', 'law', 'suit', 'going', 'against', 'the', 'star', 'for', 'stealing', 'her', 'songs', 'hedwig', 'and', 'the', 'angry', 'inch', 'get', 'gigs', 'not', 'coincidentally', 'at', 'a', 'chain', 'of', 'seafood', 'restaurants', 'that', 'just', 'happen', 'to', 'be', 'next', 'to', 'the', 'forums', 'where', 'tommy', 'gnosis', 'is', 'playing', 'things', 'finally', 'come', 'to', 'a', 'head', 'so', 'to', 'speak', 'in', 'new', 'york', 'city', 'the', 'popularity', 'of', 'the', 'musical', 'and', 'its', 'offshoots', 'have', 'garnered', 'a', 'audience', 'base', 'for', 'hedwig', 'the', 'wit', 'humor', 'music', 'and', 'search', 'for', 'identity', 'has', 'great', 'appeal', 'to', 'young', 'adults', 'but', 'the', 'charismatic', 'presence', 'of', 'mitchell', 'makes', 'this', 'a', 'cut', 'above', 'what', 'it', 'could', 'have', 'been', 'it', 'is', 'this', 'show', 'that', 'casts', 'its', 'spotlight', 'on', 'its', 'internationally', 'ignored', 'rock', 'star', 'and', 'mitchell', 'is', 'outstanding', 'in', 'the', 'role', 'there', 'a', 'lot', 'going', 'on', 'with', 'other', 'characters', 'though', 'there', 'are', 'amusing', 'little', 'sidebars', 'like', 'backup', 'yitzak', 'miriam', 'shor', 'deciding', 'to', 'break', 'away', 'from', 'the', 'band', 'to', 'join', 'a', 'polynesian', 'road', 'show', 'of', 'rent', 'as', 'a', 'puerto', 'rican', 'drag', 'queen', 'the', 'low', 'budget', 'that', 'the', 'moviemakers', 'have', 'for', 'the', 'production', 'belies', 'the', 'quality', 'of', 'the', 'film', 'attention', 'to', 'details', 'costumes', 'and', 'outrageous', 'cabaret', 'makeup', 'the', 'seedy', 'trailer', 'park', 'setting', 'and', 'the', 'kitschy', 'seafood', 'restaurants', 'are', 'loads', 'of', 'fun', 'to', 'watch', 'and', 'lend', 'the', 'appropriate', 'air', 'to', 'the', 'proceeds', 'all', 'on', 'what', 'has', 'to', 'be', 'a', 'beer', 'budget', 'hedwig', 'and', 'the', 'angry', 'inch', 'may', 'not', 'be', 'for', 'everybody', 'but', 'the', 'energy', 'of', 'the', 'effort', 'the', 'songs', 'the', 'imaginative', 'sets', 'and', 'costumes', 'and', 'a', 'fast', 'steady', 'pace', 'make', 'it', 'a', 'pleasure', 'to', 'watch', 'if', 'a', 'fan', 'of', 'contemporary', 'edgy', 'music', 'it', 'is', 'an', 'even', 'bigger', 'draw', 'i', 'give', 'it', 'a']\n"
     ]
    }
   ],
   "source": [
    "# punc\n",
    "for i in range(len(sentences)):\n",
    "    sentences[i] = [word for word in sentences[i] if word.isalnum()]\n",
    "print(sentences[0])\n",
    "\n",
    "# punc\n",
    "for i in range(len(sen2s)):\n",
    "    sen2s[i] = [word for word in sen2s[i] if word.isalnum()]\n",
    "print(sen2s[0])"
   ]
  },
  {
   "cell_type": "code",
   "execution_count": 91,
   "metadata": {},
   "outputs": [
    {
     "name": "stdout",
     "output_type": "stream",
     "text": [
      "['every', 'see', 'film', 'effective', 'delivering', 'goods', 'easy', 'forget', 'forgive', 'glaring', 'imperfections', 'case', 'good', 'hunting', 'subtle', 'character', 'study', 'socially', 'inept', 'mathematics', 'genius', 'struggles', 'find', 'path', 'life', 'despite', 'serious', 'character', 'problems', 'still', 'good', 'film', 'probably', 'know', 'plot', 'make', 'quick', 'hunting', 'damon', 'janitor', 'really', 'smarter', 'einstein', 'nobody', 'knows', 'likes', 'go', 'friend', 'chuckie', 'affleck', 'buddies', 'drink', 'beer', 'charismatic', 'witty', 'terrible', 'time', 'authority', 'stiff', 'college', 'folk', 'getting', 'tiff', 'law', 'distinguished', 'professor', 'skarsg', 'rd', 'discovers', 'genius', 'offers', 'chance', 'clean', 'record', 'avoid', 'jail', 'time', 'price', 'must', 'attend', 'weekly', 'sessions', 'therapist', 'work', 'various', 'mathematical', 'problems', 'stumped', 'academic', 'elite', 'professor', 'outsmarting', 'scaring', 'hell', 'couple', 'different', 'psychologists', 'meets', 'match', 'hooked', 'therapist', 'named', 'sean', 'maguire', 'williams', 'problems', 'meantime', 'meets', 'british', 'medical', 'school', 'student', 'driver', 'begin', 'fall', 'love', 'story', 'starts', 'well', 'enough', 'pretty', 'original', 'basis', 'film', 'even', 'though', 'seen', 'movies', 'misunderstood', 'erratic', 'prodigies', 'shine', 'ring', 'bell', 'script', 'creates', 'complex', 'narrative', 'focus', 'solely', 'one', 'character', 'alas', 'though', 'perfect', 'film', 'much', 'feel', 'like', 'could', 'watching', 'one', 'real', 'problem', 'unrealistic', 'nature', 'main', 'character', 'possible', 'lowly', 'janitor', 'intelligent', 'course', 'possible', 'estranged', 'deep', 'human', 'relationships', 'usually', 'yes', 'possible', 'also', 'handsome', 'funny', 'quick', 'tongue', 'tough', 'likely', 'come', 'usually', 'guys', 'total', 'nerds', 'even', 'buy', 'shirts', 'much', 'less', 'talk', 'harvard', 'student', 'hip', 'pub', 'picking', 'phone', 'numbers', 'pretty', 'med', 'girls', 'little', 'perfect', 'order', 'accept', 'character', 'disbelief', 'suspension', 'needs', 'excellent', 'working', 'condition', 'statement', 'made', 'government', 'job', 'interview', 'late', 'film', 'also', 'boorish', 'overlong', 'pompous', 'completely', 'unnecessary', 'sounds', 'pretty', 'bad', 'film', 'somehow', 'makes', 'ways', 'damon', 'acting', 'overshadows', 'fact', 'character', 'slightly', 'unbelievable', 'performance', 'truly', 'extraordinary', 'leads', 'really', 'good', 'part', 'review', 'strength', 'movie', 'summed', 'one', 'single', 'word', 'acting', 'recall', 'seeing', 'film', 'recently', 'top', 'bottom', 'minnie', 'driver', 'frustrated', 'lover', 'ben', 'affleck', 'best', 'friend', 'small', 'roles', 'performances', 'magnificent', 'robin', 'williams', 'skill', 'given', 'bereaved', 'psychologist', 'could', 'legendary', 'career', 'knocked', 'path', 'somewhere', 'line', 'real', 'gem', 'though', 'stellan', 'skarsg', 'rd', 'turn', 'professor', 'lambeau', 'mathematician', 'feels', 'reduced', 'comparison', 'younger', 'smarter', 'hunting', 'scenes', 'williams', 'skarsg', 'rd', 'two', 'old', 'college', 'pals', 'brought', 'back', 'together', 'enigmatic', 'kid', 'display', 'best', 'acting', 'ever', 'seen', 'say', 'delivering', 'goods', 'talking', 'watching', 'two', 'work', 'going', 'see', 'movies', 'gus', 'van', 'sant', 'die', 'drugstore', 'cowboy', 'cold', 'urban', 'direction', 'right', 'well', 'danny', 'elfman', 'sauntering', 'musical', 'score', 'highly', 'recommend', 'good', 'hunting', 'despite', 'faults', 'still', 'intriguing', 'fascinating', 'film', 'likely', 'see', 'better', 'acted', 'one', 'year']\n",
      "['hedwig', 'john', 'cameron', 'mitchell', 'born', 'boy', 'named', 'hansel', 'east', 'berlin', 'teen', 'seeking', 'half', 'reluctantly', 'agrees', 'sex', 'change', 'operation', 'order', 'marry', 'american', 'g', 'luther', 'maurice', 'dean', 'wint', 'operation', 'performed', 'hack', 'surgeon', 'botched', 'angry', 'inch', 'left', 'hedwig', 'comes', 'america', 'abandoned', 'luther', 'forms', 'rock', 'band', 'falls', 'old', 'g', 'tommy', 'rejected', 'later', 'band', 'angry', 'inch', 'shadows', 'tommy', 'gnosis', 'across', 'us', 'revenge', 'hedwig', 'really', 'search', 'lost', 'half', 'hedwig', 'angry', 'inch', 'first', 'time', 'helmer', 'john', 'cameron', 'mitchell', 'along', 'stephen', 'trask', 'created', 'starred', 'acclaimed', 'production', 'become', 'movie', 'quite', 'movie', 'eclectic', 'variety', 'songs', 'outrageous', 'costumes', 'sets', 'makeup', 'especially', 'riveting', 'performance', 'mitchell', 'title', 'character', 'mitchell', 'trask', 'reinvented', 'movie', 'musical', 'couple', 'underlying', 'story', 'hedwig', 'looking', 'far', 'big', 'fan', 'musicals', 'sure', 'exceptions', 'like', 'bob', 'jazz', 'cabaret', 'part', 'cup', 'tea', 'hedwig', 'angry', 'inch', 'exception', 'though', 'combination', 'humor', 'wit', 'collection', 'tunes', 'covers', 'musical', 'styles', 'ranging', 'rocky', 'horror', 'picture', 'show', 'meatloaf', 'david', 'bowie', 'sex', 'pistols', 'original', 'songs', 'stephen', 'trask', 'also', 'appearing', 'one', 'members', 'band', 'angry', 'inch', 'full', 'energy', 'variety', 'even', 'though', 'kind', 'music', 'found', 'every', 'one', 'entertaining', 'fun', 'audience', 'saw', 'hedwig', 'thought', 'main', 'attraction', 'show', 'presence', 'star', 'john', 'cameron', 'mitchell', 'gives', 'solid', 'sometimes', 'fun', 'sometimes', 'angry', 'performance', 'person', 'searching', 'love', 'young', 'boy', 'growing', 'east', 'berlin', 'hansel', 'abused', 'g', 'father', 'raised', 'german', 'mother', 'tiny', 'flat', 'small', 'mother', 'would', 'make', 'play', 'oven', 'listened', 'pop', 'music', 'armed', 'forces', 'radio', 'later', 'young', 'man', 'meets', 'luther', 'another', 'g', 'swept', 'feet', 'ensuing', 'angry', 'inch', 'incident', 'comes', 'soon', 'flash', 'forward', 'trailer', 'park', 'junction', 'city', 'kansas', 'luther', 'leaving', 'hedwig', 'another', 'boy', 'frustrated', 'broke', 'takes', 'odd', 'job', 'make', 'ends', 'meet', 'also', 'forms', 'band', 'four', 'korean', 'housewives', 'musical', 'talent', 'hedwig', 'born', 'meets', 'falls', 'loses', 'young', 'tommy', 'steals', 'songs', 'goes', 'become', 'rock', 'sensation', 'jealous', 'angry', 'hedwig', 'new', 'band', 'begins', 'campaign', 'shadow', 'tours', 'help', 'manager', 'phyllis', 'stein', 'andrea', 'martin', 'trying', 'get', 'law', 'suit', 'going', 'star', 'stealing', 'songs', 'hedwig', 'angry', 'inch', 'get', 'gigs', 'coincidentally', 'chain', 'seafood', 'restaurants', 'happen', 'next', 'forums', 'tommy', 'gnosis', 'playing', 'things', 'finally', 'come', 'head', 'speak', 'new', 'york', 'city', 'popularity', 'musical', 'offshoots', 'garnered', 'audience', 'base', 'hedwig', 'wit', 'humor', 'music', 'search', 'identity', 'great', 'appeal', 'young', 'adults', 'charismatic', 'presence', 'mitchell', 'makes', 'cut', 'could', 'show', 'casts', 'spotlight', 'internationally', 'ignored', 'rock', 'star', 'mitchell', 'outstanding', 'role', 'lot', 'going', 'characters', 'though', 'amusing', 'little', 'sidebars', 'like', 'backup', 'yitzak', 'miriam', 'shor', 'deciding', 'break', 'away', 'band', 'join', 'polynesian', 'road', 'show', 'rent', 'puerto', 'rican', 'drag', 'queen', 'low', 'budget', 'moviemakers', 'production', 'belies', 'quality', 'film', 'attention', 'details', 'costumes', 'outrageous', 'cabaret', 'makeup', 'seedy', 'trailer', 'park', 'setting', 'kitschy', 'seafood', 'restaurants', 'loads', 'fun', 'watch', 'lend', 'appropriate', 'air', 'proceeds', 'beer', 'budget', 'hedwig', 'angry', 'inch', 'may', 'everybody', 'energy', 'effort', 'songs', 'imaginative', 'sets', 'costumes', 'fast', 'steady', 'pace', 'make', 'pleasure', 'watch', 'fan', 'contemporary', 'edgy', 'music', 'even', 'bigger', 'draw', 'give']\n"
     ]
    }
   ],
   "source": [
    "# stopWords\n",
    "stop_words = set(stopwords.words('english'))\n",
    "\n",
    "for i in range(len(sentences)):\n",
    "    sentences[i] = [word for word in sentences[i] if word not in stop_words]\n",
    "print(sentences[0])\n",
    "# Output: don't have stop words in sentence[i] any \n",
    "\n",
    "\n",
    "for i in range(len(sen2s)):\n",
    "    sen2s[i] = [word for word in sen2s[i] if word not in stop_words]\n",
    "print(sen2s[0])\n",
    "# Output: don't have stop words in sentence[i] any more"
   ]
  },
  {
   "cell_type": "code",
   "execution_count": 92,
   "metadata": {},
   "outputs": [
    {
     "name": "stdout",
     "output_type": "stream",
     "text": [
      "['everi', 'see', 'film', 'effect', 'deliv', 'good', 'easi', 'forget', 'forgiv', 'glare', 'imperfect', 'case', 'good', 'hunt', 'subtl', 'charact', 'studi', 'social', 'inept', 'mathemat', 'geniu', 'struggl', 'find', 'path', 'life', 'despit', 'seriou', 'charact', 'problem', 'still', 'good', 'film', 'probabl', 'know', 'plot', 'make', 'quick', 'hunt', 'damon', 'janitor', 'realli', 'smarter', 'einstein', 'nobodi', 'know', 'like', 'go', 'friend', 'chucki', 'affleck', 'buddi', 'drink', 'beer', 'charismat', 'witti', 'terribl', 'time', 'author', 'stiff', 'colleg', 'folk', 'get', 'tiff', 'law', 'distinguish', 'professor', 'skarsg', 'rd', 'discov', 'geniu', 'offer', 'chanc', 'clean', 'record', 'avoid', 'jail', 'time', 'price', 'must', 'attend', 'weekli', 'session', 'therapist', 'work', 'variou', 'mathemat', 'problem', 'stump', 'academ', 'elit', 'professor', 'outsmart', 'scare', 'hell', 'coupl', 'differ', 'psychologist', 'meet', 'match', 'hook', 'therapist', 'name', 'sean', 'maguir', 'william', 'problem', 'meantim', 'meet', 'british', 'medic', 'school', 'student', 'driver', 'begin', 'fall', 'love', 'stori', 'start', 'well', 'enough', 'pretti', 'origin', 'basi', 'film', 'even', 'though', 'seen', 'movi', 'misunderstood', 'errat', 'prodigi', 'shine', 'ring', 'bell', 'script', 'creat', 'complex', 'narr', 'focu', 'sole', 'one', 'charact', 'ala', 'though', 'perfect', 'film', 'much', 'feel', 'like', 'could', 'watch', 'one', 'real', 'problem', 'unrealist', 'natur', 'main', 'charact', 'possibl', 'lowli', 'janitor', 'intellig', 'cours', 'possibl', 'estrang', 'deep', 'human', 'relationship', 'usual', 'ye', 'possibl', 'also', 'handsom', 'funni', 'quick', 'tongu', 'tough', 'like', 'come', 'usual', 'guy', 'total', 'nerd', 'even', 'buy', 'shirt', 'much', 'less', 'talk', 'harvard', 'student', 'hip', 'pub', 'pick', 'phone', 'number', 'pretti', 'med', 'girl', 'littl', 'perfect', 'order', 'accept', 'charact', 'disbelief', 'suspens', 'need', 'excel', 'work', 'condit', 'statement', 'made', 'govern', 'job', 'interview', 'late', 'film', 'also', 'boorish', 'overlong', 'pompou', 'complet', 'unnecessari', 'sound', 'pretti', 'bad', 'film', 'somehow', 'make', 'way', 'damon', 'act', 'overshadow', 'fact', 'charact', 'slightli', 'unbeliev', 'perform', 'truli', 'extraordinari', 'lead', 'realli', 'good', 'part', 'review', 'strength', 'movi', 'sum', 'one', 'singl', 'word', 'act', 'recal', 'see', 'film', 'recent', 'top', 'bottom', 'minni', 'driver', 'frustrat', 'lover', 'ben', 'affleck', 'best', 'friend', 'small', 'role', 'perform', 'magnific', 'robin', 'william', 'skill', 'given', 'bereav', 'psychologist', 'could', 'legendari', 'career', 'knock', 'path', 'somewher', 'line', 'real', 'gem', 'though', 'stellan', 'skarsg', 'rd', 'turn', 'professor', 'lambeau', 'mathematician', 'feel', 'reduc', 'comparison', 'younger', 'smarter', 'hunt', 'scene', 'william', 'skarsg', 'rd', 'two', 'old', 'colleg', 'pal', 'brought', 'back', 'togeth', 'enigmat', 'kid', 'display', 'best', 'act', 'ever', 'seen', 'say', 'deliv', 'good', 'talk', 'watch', 'two', 'work', 'go', 'see', 'movi', 'gu', 'van', 'sant', 'die', 'drugstor', 'cowboy', 'cold', 'urban', 'direct', 'right', 'well', 'danni', 'elfman', 'saunter', 'music', 'score', 'highli', 'recommend', 'good', 'hunt', 'despit', 'fault', 'still', 'intrigu', 'fascin', 'film', 'like', 'see', 'better', 'act', 'one', 'year']\n",
      "['hedwig', 'john', 'cameron', 'mitchel', 'born', 'boy', 'name', 'hansel', 'east', 'berlin', 'teen', 'seek', 'half', 'reluctantli', 'agre', 'sex', 'chang', 'oper', 'order', 'marri', 'american', 'g', 'luther', 'mauric', 'dean', 'wint', 'oper', 'perform', 'hack', 'surgeon', 'botch', 'angri', 'inch', 'left', 'hedwig', 'come', 'america', 'abandon', 'luther', 'form', 'rock', 'band', 'fall', 'old', 'g', 'tommi', 'reject', 'later', 'band', 'angri', 'inch', 'shadow', 'tommi', 'gnosi', 'across', 'us', 'reveng', 'hedwig', 'realli', 'search', 'lost', 'half', 'hedwig', 'angri', 'inch', 'first', 'time', 'helmer', 'john', 'cameron', 'mitchel', 'along', 'stephen', 'trask', 'creat', 'star', 'acclaim', 'product', 'becom', 'movi', 'quit', 'movi', 'eclect', 'varieti', 'song', 'outrag', 'costum', 'set', 'makeup', 'especi', 'rivet', 'perform', 'mitchel', 'titl', 'charact', 'mitchel', 'trask', 'reinvent', 'movi', 'music', 'coupl', 'underli', 'stori', 'hedwig', 'look', 'far', 'big', 'fan', 'music', 'sure', 'except', 'like', 'bob', 'jazz', 'cabaret', 'part', 'cup', 'tea', 'hedwig', 'angri', 'inch', 'except', 'though', 'combin', 'humor', 'wit', 'collect', 'tune', 'cover', 'music', 'style', 'rang', 'rocki', 'horror', 'pictur', 'show', 'meatloaf', 'david', 'bowi', 'sex', 'pistol', 'origin', 'song', 'stephen', 'trask', 'also', 'appear', 'one', 'member', 'band', 'angri', 'inch', 'full', 'energi', 'varieti', 'even', 'though', 'kind', 'music', 'found', 'everi', 'one', 'entertain', 'fun', 'audienc', 'saw', 'hedwig', 'thought', 'main', 'attract', 'show', 'presenc', 'star', 'john', 'cameron', 'mitchel', 'give', 'solid', 'sometim', 'fun', 'sometim', 'angri', 'perform', 'person', 'search', 'love', 'young', 'boy', 'grow', 'east', 'berlin', 'hansel', 'abus', 'g', 'father', 'rais', 'german', 'mother', 'tini', 'flat', 'small', 'mother', 'would', 'make', 'play', 'oven', 'listen', 'pop', 'music', 'arm', 'forc', 'radio', 'later', 'young', 'man', 'meet', 'luther', 'anoth', 'g', 'swept', 'feet', 'ensu', 'angri', 'inch', 'incid', 'come', 'soon', 'flash', 'forward', 'trailer', 'park', 'junction', 'citi', 'kansa', 'luther', 'leav', 'hedwig', 'anoth', 'boy', 'frustrat', 'broke', 'take', 'odd', 'job', 'make', 'end', 'meet', 'also', 'form', 'band', 'four', 'korean', 'housew', 'music', 'talent', 'hedwig', 'born', 'meet', 'fall', 'lose', 'young', 'tommi', 'steal', 'song', 'goe', 'becom', 'rock', 'sensat', 'jealou', 'angri', 'hedwig', 'new', 'band', 'begin', 'campaign', 'shadow', 'tour', 'help', 'manag', 'phylli', 'stein', 'andrea', 'martin', 'tri', 'get', 'law', 'suit', 'go', 'star', 'steal', 'song', 'hedwig', 'angri', 'inch', 'get', 'gig', 'coincident', 'chain', 'seafood', 'restaur', 'happen', 'next', 'forum', 'tommi', 'gnosi', 'play', 'thing', 'final', 'come', 'head', 'speak', 'new', 'york', 'citi', 'popular', 'music', 'offshoot', 'garner', 'audienc', 'base', 'hedwig', 'wit', 'humor', 'music', 'search', 'ident', 'great', 'appeal', 'young', 'adult', 'charismat', 'presenc', 'mitchel', 'make', 'cut', 'could', 'show', 'cast', 'spotlight', 'intern', 'ignor', 'rock', 'star', 'mitchel', 'outstand', 'role', 'lot', 'go', 'charact', 'though', 'amus', 'littl', 'sidebar', 'like', 'backup', 'yitzak', 'miriam', 'shor', 'decid', 'break', 'away', 'band', 'join', 'polynesian', 'road', 'show', 'rent', 'puerto', 'rican', 'drag', 'queen', 'low', 'budget', 'moviemak', 'product', 'beli', 'qualiti', 'film', 'attent', 'detail', 'costum', 'outrag', 'cabaret', 'makeup', 'seedi', 'trailer', 'park', 'set', 'kitschi', 'seafood', 'restaur', 'load', 'fun', 'watch', 'lend', 'appropri', 'air', 'proce', 'beer', 'budget', 'hedwig', 'angri', 'inch', 'may', 'everybodi', 'energi', 'effort', 'song', 'imagin', 'set', 'costum', 'fast', 'steadi', 'pace', 'make', 'pleasur', 'watch', 'fan', 'contemporari', 'edgi', 'music', 'even', 'bigger', 'draw', 'give']\n"
     ]
    }
   ],
   "source": [
    "stemmer = PorterStemmer()\n",
    "\n",
    "for i in range(len(sentences)):\n",
    "    sentences[i] = [stemmer.stem(word) for word in sentences[i]]\n",
    "\n",
    "print(sentences[0])\n",
    "# Output: running to run, location to locat\n",
    "\n",
    "for i in range(len(sen2s)):\n",
    "    sen2s[i] = [stemmer.stem(word) for word in sen2s[i]]\n",
    "\n",
    "print(sen2s[0])\n",
    "# Output: running to run, location to locat"
   ]
  },
  {
   "cell_type": "code",
   "execution_count": 93,
   "metadata": {},
   "outputs": [
    {
     "name": "stdout",
     "output_type": "stream",
     "text": [
      "[[0.         0.         0.         ... 0.         0.         0.        ]\n",
      " [0.         0.         0.         ... 0.         0.         0.        ]\n",
      " [0.         0.03794973 0.         ... 0.         0.         0.        ]\n",
      " ...\n",
      " [0.         0.         0.         ... 0.         0.         0.        ]\n",
      " [0.         0.         0.         ... 0.         0.         0.        ]\n",
      " [0.         0.         0.         ... 0.         0.         0.        ]]\n"
     ]
    }
   ],
   "source": [
    "X_train = [' '.join(sentence) for sentence in sentences]\n",
    "X_test = [' '.join(sen) for sen in sen2s]\n",
    "\n",
    "# Target variable\n",
    "y_train = trainData['Label'].values \n",
    "y_test = testData['Label'].values\n",
    "\n",
    "# Vectorize the text data using TfidfVectorizer\n",
    "tfidf = TfidfVectorizer(max_features=15000)\n",
    "X_train_tfidf = tfidf.fit_transform(X_train)\n",
    "X_test_tfidf = tfidf.transform(X_test)\n",
    "\n",
    "print(X_train_tfidf.toarray())\n"
   ]
  },
  {
   "cell_type": "code",
   "execution_count": 94,
   "metadata": {},
   "outputs": [],
   "source": [
    "def convert_to_dense_if_sparse(X):\n",
    "    if hasattr(X, 'toarray'):\n",
    "        return X.toarray()\n",
    "    return X\n",
    "\n",
    "class SVM_classifier():\n",
    "    def __init__(self, learning_rate=0.01, lambda_=10, iterations=1000):\n",
    "        self.learning_rate = learning_rate\n",
    "        self.lambda_ = lambda_\n",
    "        self.iterations = iterations\n",
    "        self.W = None\n",
    "        self.B = None\n",
    "    \n",
    "    def compute_hingle_loss(self, W, B, X_batch, y_batch):\n",
    "        \"\"\" calculate hinge loss \"\"\"\n",
    "        N = X_batch.shape[0]\n",
    "        distance = []\n",
    "        for idx, x in enumerate(X_batch):\n",
    "            distance.append(max(0, 1 - y_batch[idx] * (np.dot(x, W) + B)))\n",
    "\n",
    "        distances = np.array(distance) # let distance into numpy array \n",
    "    \n",
    "        hinge_loss = self.lambda_ * (np.sum(distances) / N) # find hinge loss\n",
    "        \n",
    "        # calculate cost\n",
    "        cost = 1 / 2 * np.dot(W, W) + hinge_loss\n",
    "        return cost\n",
    "\n",
    "    def gradientDescent(self, W, B, X_batch, Y_batch):\n",
    "        distance = []\n",
    "        for idx, x in enumerate(X_batch):\n",
    "            distance.append(1 - Y_batch[idx] * (np.dot(x, W) + B))\n",
    "    \n",
    "        dw = np.zeros(len(W))\n",
    "        dB = 0\n",
    "        for idx, d in enumerate(distance):\n",
    "            if max(0, d) == 0:\n",
    "                dw += W\n",
    "                dB += 0\n",
    "            else:\n",
    "                dw += W - (self.lambda_ * Y_batch[idx] * X_batch[idx])\n",
    "                dB += 0 - (self.lambda_ * Y_batch[idx])\n",
    "        \n",
    "        dw = dw / len(Y_batch)  # average\n",
    "        dB = dB / len(Y_batch)  # avg\n",
    "        return dw, dB\n",
    "        \n",
    "    def fit(self, features, outputs) -> bool:\n",
    "        # print(features)\n",
    "        features = convert_to_dense_if_sparse(features)\n",
    "\n",
    "        # print(features.shape)\n",
    "        max_epochs = self.iterations\n",
    "        weights = np.zeros(features.shape[1])\n",
    "        bias = 0\n",
    "        nth = 0\n",
    "\n",
    "        prev_cost = float(\"inf\")\n",
    "        cost_threshold = 0.01  # in percent\n",
    "        \n",
    "        for epoch in range(1, max_epochs):\n",
    "            gradW, gradB = self.gradientDescent(weights, bias, features, outputs)\n",
    "\n",
    "            # convergence check on 2^nth epoch\n",
    "            if epoch == 2 ** nth or epoch == max_epochs - 1:\n",
    "                cost = self.compute_hingle_loss(weights, bias, features, outputs)\n",
    "                print(\"Epoch is:{} and Cost is: {}\".format(epoch, cost))\n",
    "                # stoppage criterion\n",
    "                if abs(prev_cost - cost) < cost_threshold * prev_cost:\n",
    "                    self.W = weights\n",
    "                    self.B = bias\n",
    "                    return True\n",
    "                prev_cost = cost\n",
    "                nth += 1\n",
    "            \n",
    "            # update grad\n",
    "            weights = weights - (self.learning_rate * gradW)\n",
    "            bias = bias - (self.learning_rate * gradB)\n",
    "            \n",
    "        self.W = weights\n",
    "        self.B = bias\n",
    "        return True\n",
    "    \n",
    "    def decisionFunc(self, X):\n",
    "        X = convert_to_dense_if_sparse(X)\n",
    "        ans = []\n",
    "        for x in X:\n",
    "            ans.append(np.dot(x, self.W) + self.B)\n",
    "        return np.array(ans)\n",
    "    \n",
    "    def predict(self, X):\n",
    "        X = convert_to_dense_if_sparse(X)\n",
    "        # print(X)\n",
    "        prediction = []\n",
    "        for x in X:\n",
    "            prediction.append(np.dot(x, self.W) + self.B) # w.x + b\n",
    "        \n",
    "        # print(np.sign(prediction))\n",
    "        return np.sign(prediction)\n",
    "\n",
    "    # Evaluate the model\n",
    "    def evaluate(self, X_test, y_test):\n",
    "        predictions = self.predict(X_test)\n",
    "        correct = 0\n",
    "        cnt_pos = 0\n",
    "        cnt_neg = 0\n",
    "        for i in range(predictions.shape[0]):\n",
    "            if predictions[i] == y_test[i]:\n",
    "                correct += 1\n",
    "            \n",
    "            if y_test[i] == 1:\n",
    "                cnt_pos += 1\n",
    "            else:\n",
    "                cnt_neg += 1\n",
    "        accuracy = correct / y_test.shape[0]\n",
    "        print(f'Accuracy: {accuracy * 100:.2f}%')\n",
    "        print(f\"Pos_rate: {cnt_pos / y_test.shape[0] * 100:.2}%\")\n",
    "        return accuracy"
   ]
  },
  {
   "cell_type": "code",
   "execution_count": 95,
   "metadata": {},
   "outputs": [],
   "source": [
    "class OvRClassifier:\n",
    "    def __init__(self, n_classes, learning_rate=0.001, lambda_=10000, iterations=1000):\n",
    "        self.n_classes = n_classes\n",
    "        self.models = [SVM_classifier(learning_rate, lambda_, iterations) for _ in range(n_classes)]\n",
    "\n",
    "    def fit(self, X, y):\n",
    "        for i in range(self.n_classes):\n",
    "            y_binary = np.where(y == i, 1, -1) # in y and val == i then in y_binary = 1, others = -1 \n",
    "            self.models[i].fit(X, y_binary)\n",
    "\n",
    "    def predict(self, X):\n",
    "        decision_values = np.array([model.decisionFunc(X) for model in self.models])\n",
    "        return np.argmax(decision_values, axis=0)\n",
    "    \n",
    "    def evaluate(self, X_test, y_test):\n",
    "        predictions = self.predict(X_test)\n",
    "        correct = 0\n",
    "        cnt_pos = 0\n",
    "        cnt_neg = 0\n",
    "        cnt_net = 0\n",
    "        for i in range(predictions.shape[0]):\n",
    "            if predictions[i] == y_test[i]:\n",
    "                correct += 1\n",
    "            \n",
    "            if y_test[i] == 2:\n",
    "                cnt_pos += 1\n",
    "            elif y_test[i] == 0:\n",
    "                cnt_neg += 1\n",
    "            else:\n",
    "                cnt_net += 1\n",
    "                \n",
    "        accuracy = correct / y_test.shape[0]\n",
    "        print(f'Accuracy: {accuracy * 100:.2f}%')\n",
    "        print(f\"Number: {cnt_pos}, {cnt_neg}, {cnt_net}\")\n",
    "        return accuracy"
   ]
  },
  {
   "cell_type": "code",
   "execution_count": 96,
   "metadata": {},
   "outputs": [
    {
     "name": "stdout",
     "output_type": "stream",
     "text": [
      "Epoch is:1 and Cost is: 100.0\n",
      "Epoch is:2 and Cost is: 99.84315793374063\n"
     ]
    },
    {
     "data": {
      "text/plain": [
       "True"
      ]
     },
     "execution_count": 96,
     "metadata": {},
     "output_type": "execute_result"
    }
   ],
   "source": [
    "svm = SVM_classifier(learning_rate=0.01, lambda_=100)\n",
    "svm.fit(X_train_tfidf, y_train)"
   ]
  },
  {
   "cell_type": "code",
   "execution_count": 97,
   "metadata": {},
   "outputs": [
    {
     "name": "stdout",
     "output_type": "stream",
     "text": [
      "Accuracy: 89.39%\n",
      "Pos_rate: 5e+01%\n",
      "Accuracy: 83.50%\n",
      "Pos_rate: 5e+01%\n"
     ]
    },
    {
     "data": {
      "text/plain": [
       "0.835"
      ]
     },
     "execution_count": 97,
     "metadata": {},
     "output_type": "execute_result"
    }
   ],
   "source": [
    "svm.evaluate(X_train_tfidf, y_train)\n",
    "svm.evaluate(X_test_tfidf, y_test)"
   ]
  },
  {
   "cell_type": "code",
   "execution_count": 102,
   "metadata": {},
   "outputs": [
    {
     "name": "stdout",
     "output_type": "stream",
     "text": [
      "Accuracy: 99.06%\n"
     ]
    }
   ],
   "source": [
    "s = SVC(kernel='linear', random_state=42)\n",
    "s.fit(X_train_tfidf, y_train)\n",
    "\n",
    "y_pred = s.predict(X_train_tfidf)\n",
    "\n",
    "# Evaluate the model\n",
    "accuracy = accuracy_score(y_pred, y_train)\n",
    "print(f\"Accuracy: {accuracy * 100:.2f}%\")\n",
    "# print(\"\\nClassification Report:\")\n",
    "# print(classification_report(y_test, y_pred))"
   ]
  },
  {
   "cell_type": "code",
   "execution_count": 103,
   "metadata": {},
   "outputs": [
    {
     "name": "stdout",
     "output_type": "stream",
     "text": [
      "86.0%\n"
     ]
    }
   ],
   "source": [
    "predictions = s.predict(X_test_tfidf)\n",
    "cnt_true = 0\n",
    "n = predictions.shape[0]\n",
    "for i in range(n):\n",
    "    if predictions[i] == y_test[i]:\n",
    "        cnt_true += 1\n",
    "accuracy = cnt_true / n * 100\n",
    "print(round(accuracy, 2), \"%\", sep=\"\")"
   ]
  },
  {
   "cell_type": "code",
   "execution_count": null,
   "metadata": {},
   "outputs": [],
   "source": []
  }
 ],
 "metadata": {
  "kernelspec": {
   "display_name": "Python 3",
   "language": "python",
   "name": "python3"
  },
  "language_info": {
   "codemirror_mode": {
    "name": "ipython",
    "version": 3
   },
   "file_extension": ".py",
   "mimetype": "text/x-python",
   "name": "python",
   "nbconvert_exporter": "python",
   "pygments_lexer": "ipython3",
   "version": "3.12.0"
  }
 },
 "nbformat": 4,
 "nbformat_minor": 2
}
